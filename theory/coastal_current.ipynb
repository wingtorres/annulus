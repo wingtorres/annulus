{
 "cells": [
  {
   "cell_type": "markdown",
   "metadata": {},
   "source": [
    "# Coastal Current"
   ]
  },
  {
   "cell_type": "markdown",
   "metadata": {},
   "source": [
    "## Governing Equations\n",
    "In the farfield, where the jet has deflected and settled into geostrophic balance oriented parallel to isobaths, the steady continuity and momentum equations are\n",
    "\n",
    "$$ \\frac{\\partial }{\\partial s}(VH) + \\frac{\\partial \\alpha}{\\partial n} = 0 $$ \n",
    "\n",
    "$$ \n",
    "V\\frac{\\partial V}{\\partial s} +  \n",
    "C_D \\frac{V^2}{H}  +\n",
    "g \\frac{\\partial \\eta}{\\partial s}  = 0 \n",
    "$$\n",
    "\n",
    "$$ \n",
    "V^2 K +\n",
    "fV +\n",
    "g \\frac{\\partial \\eta}{\\partial n}  = 0\n",
    "$$\n",
    "\n",
    "**note**: the nonlinear term in the normal component is retained to account for the curvature of isobaths to be expected around and island"
   ]
  },
  {
   "cell_type": "markdown",
   "metadata": {},
   "source": [
    "Due to the azimuthally periodic boundary conditions naturally arising from the problem geometry, it is actually not possible to support a net free-surface slope, in that direction i.e. $\\int g\\frac{\\partial \\eta(r,\\theta)}{\\partial \\theta}\\partial \\, \\theta = 0$. Thus, once the flow aligns to isobaths directly oriented to the azimuthal coordinate, it is reasonable to argue that $g\\frac{\\partial \\eta}{\\partial s} \\approx 0$ once the coastal current has been established."
   ]
  },
  {
   "cell_type": "markdown",
   "metadata": {},
   "source": [
    "As a consequence, equation (1) reduces to \n",
    "\n",
    "$$V \\frac{\\partial V}{\\partial s} = -C_D \\frac{V^2}{H} $$,\n",
    "\n",
    "an ordinary differential equation that can be solved by separation of variables, admitting the solution\n",
    "\n",
    "$$ V(s) = V_0 e^{-\\frac{C_D}{H}s} $$\n",
    "\n",
    "And so an e-folding decay length scale ($\\mathbb{S}$) can be established \n",
    "$$\\mathbb{S} = 3\\frac{H}{C_D}$$\n",
    "\n",
    "($e^{-3}$ decays to 5% of the inital value, while $e^{-4}$ decays to 1.8%) \n",
    "providing rough estimate of the alongshore extent of the feature before it is dissipated by friction. Note that in order to satisfy continuity, the streamwise confluence due to frictional damping of the velocity field would induce radial spreading of the jet.\n",
    "\n",
    "In our problem, where $H(r) = H_0 + \\lambda (r - R_i)$, \n",
    "\n",
    "$$\\mathbb{S} = 3 \\frac{ H_0 + \\lambda (R - R_i)}{C_d}$$\n",
    "\n",
    "where R is the offshore extent of the jet before it aligns to isobaths. \n",
    "\n",
    "$$\\frac{\\mathbb{S}}{{W_r}} \\sim  \\frac{H_0 + \\lambda R}{W_rC_d}$$\n",
    "\n",
    "suggesting that the intensity of jet-jet interaction increases given a larger jet excursion distance or a reduced drag coefficient, as the flow is less likely to retard. In the limiting case of $R\\rightarrow \\infty$, however there should be no jet-jet interaction when this simple scaling indicates otherwise. However in actuality, as $R$ increases, the initial speed of the coastal current would also decay, as the jet must obey continuity on a slope, due to both topography and diffluence, and so in the limit $R\\rightarrow \\infty$, $V_0 \\rightarrow 0$ too. We can derive an approximate decay scale for the speed of the assumming jet streamlines are aligned to the radial coordinate (rather than azimuthal in the farfield), which in the nearfield is a good assumption. From  continuity, ignoring diffluence \n",
    "\n",
    "$$ V(s)' = -\\frac{V\\lambda}{H_0 + \\lambda s}$$ \n",
    "\n",
    "admits the simple solution \n",
    "\n",
    "$$V(s) = \\frac{V_0H_0}{H_0 + \\lambda s}$$\n",
    "\n",
    "giving the scale $\\mathcal{S} = \\frac{9H_0}{\\lambda}$ at where $V(s)\\approx 0.1V_0$. \n",
    "\n",
    "\n",
    "<!-- Comparing this scale with the inertial radius of the flow $(V/f)$ offers a reasonable guide as to whether the flow will successfully deflect and orient itself to isobaths before fizzling out, simply du -->\n",
    "\n",
    "<!-- which can be solved to give $V(s) = V_0e^{-\\frac{\\lambda}{H}s}$ with a 95% e-folding spatial scale $\\mathcal{S} = 3\\frac{H}{\\lambda}$ -->\n",
    "\n"
   ]
  },
  {
   "cell_type": "markdown",
   "metadata": {},
   "source": [
    "## Analytic solution\n",
    "\n",
    "After invoking continuity ($\\frac{\\partial V}{\\partial s} = -\\frac{V}{H}\\frac{\\partial H}{\\partial s} -V\\frac{\\partial \\alpha}{\\partial n}$), equation (1) becomes\n",
    "\n",
    "$$ V( -\\frac{V}{H}\\frac{\\partial H}{\\partial s} - V \\frac{\\partial \\alpha}{\\partial n} ) + C_D \\frac{V^2}{H} + g\\frac{\\partial \\eta}{\\partial s} = 0 $$\n",
    "\n",
    "Assuming the center streamline is oriented purely radially ($\\hat{s}\\sim\\hat{r}$) after recognizing that $H = H_0 + \\lambda s$ and $\\frac{\\partial H}{\\partial s}  = \\lambda $, and ignoring diffluence, the equation can be simplified to\n",
    "\n",
    "$$ \\frac{-V^2\\lambda}{H_0 + \\lambda s} + C_D\\frac{V^2}{H_0 + \\lambda s} + g\\frac{\\partial \\eta}{\\partial s} = 0 $$\n",
    "\n",
    "which is a separable first order ODE for the free surface\n",
    "\n",
    "$$ \\eta(s)^{'} = \\frac{V^2(s)(\\lambda - C_D)}{g(H_0 + \\lambda s)} $$\n",
    "\n",
    "which, after invoking the solution for $V(s)$\n",
    "\n",
    "$$ \\eta(s)^{'} = \\frac{V_0^2H_0^2(\\lambda - C_D)}{g(H_0 + \\lambda s)^3} $$\n",
    "\n",
    "admits the analytic solution\n",
    " \n",
    "$$\\eta(s) = \n",
    "\\frac{V_0^2H_0^2(C_D - \\lambda )}{2 g \\lambda(H_0 + \\lambda s)^2} - \n",
    "\\frac{V_0^2(C_D - \\lambda )}{2 g \\lambda} +\n",
    "\\eta_0\n",
    "$$\n",
    "<!-- which can be solved numerically after substituting in the continuity solution $V(s) = \\frac{V_0}{H_0 + \\lambda(s - R_i)}$ -->"
   ]
  },
  {
   "cell_type": "code",
   "execution_count": 75,
   "metadata": {},
   "outputs": [],
   "source": [
    "import numpy as np\n",
    "import pandas as pd\n",
    "import seaborn as sns\n",
    "import holoviews as hv\n",
    "import hvplot.pandas\n",
    "\n",
    "class momentumAnalysis():\n",
    "    \n",
    "    g = 9.81\n",
    "    \n",
    "    def __init__(self, V0 = 0.25, H0 = 20, 𝜆 = 0.1, Cd = 0.0625, W = 1e3, latitude = -30):\n",
    "        self.V0 = V0\n",
    "        self.H0 = H0\n",
    "        self.𝜆 = 𝜆 \n",
    "        self.Cd = Cd\n",
    "        self.W = W\n",
    "        self.f = 2*7.29e-5*np.sin(latitude*np.pi/180)\n",
    "        \n",
    "    def eta_init(self):\n",
    "        \"\"\"Compute initial free surface slope based on cyclogeostrophic balance.\n",
    "            Assume initial curvature is set by the nearfield inertial radius V0/f then integrate the normal momentum equation\"\"\"\n",
    "        self.𝜂0 = -self.W*self.f*self.V0/self.g\n",
    "    \n",
    "    def depth(self,s): #,H0,𝜆):\n",
    "        \"\"\"Compute depth profile \"\"\"\n",
    "        return self.H0 + self.𝜆*s\n",
    "        \n",
    "    def speed(self,s): #, V0 = 0.25, H0 = 20, 𝜆 = 0.1):\n",
    "        return self.V0*self.H0/(self.H0 + self.𝜆*s)\n",
    "    \n",
    "    def speed_grad(self,s):\n",
    "        return -self.V*self.𝜆/(self.H0+s*self.𝜆)\n",
    "    \n",
    "    def eta(self, s, 𝜂0 = 0.1, V0 = .25, Cd = 1e-3, 𝜆 = 0.1, H0 = 20, g = 9.81):\n",
    "        return -V0**2*H0**2*(Cd - 𝜆)/(2*g*𝜆*(𝜆*s + H0)**2) - V0**2*(Cd - 𝜆)/(2*g*𝜆) + 𝜂0\n",
    "        \n",
    "    def free_surface(self,s): #, 𝜂0 = 0.1, V0 = .25, Cd = 1e-3, 𝜆 = 0.1, H0 = 20, g = 9.81):\n",
    "        #return -V0**2*(Cd - 1/𝜆)/(2*g*𝜆*(𝜆*s + H0)**2) + V0**2*(Cd - 1/𝜆)/(2*g*𝜆*H0**2) + 𝜂0\n",
    "        return   self.V0**2*self.H0**2*(self.Cd - self.𝜆)/(2*self.g*self.𝜆*(self.𝜆*s + self.H0)**2) + \\\n",
    "                -self.V0**2*(self.Cd - self.𝜆)/(2*self.g*self.𝜆) + self.𝜂0\n",
    "    \n",
    "    def eta_slope(self, s):#, V0 = .25, Cd = 1e-3, 𝜆 = 0.1, H0 = 20, g = 9.81):\n",
    "        return self.V0**2*self.H0**2*(self.𝜆 - self.Cd)/(self.g*(self.H0 + self.𝜆*s)**3)\n",
    "\n",
    "    def dia_sw(self, dvds,V,Cd,H,dnds): # g = 9.81):\n",
    "        nl = V*dvds\n",
    "        drag = Cd*V**2/H\n",
    "        pgf = self.g*dnds\n",
    "        return nl, drag, pgf\n",
    "\n",
    "    def state(self,s):\n",
    "        self.s = s\n",
    "        self.H = self.depth(s)\n",
    "        self.V = self.speed(s)\n",
    "        self.eta_init()\n",
    "        self.𝜂 = self.free_surface(s)\n",
    "        self.dvds = self.speed_grad(s)\n",
    "        self.d𝜂ds = self.eta_slope(s)\n",
    "        \n",
    "        self.sw_nlr, self.sw_drg, self.sw_pgf = self.dia_sw(self.dvds, self.V, self.Cd, self.H, self.d𝜂ds)\n",
    "    \n",
    "    def excursion(self,r): #,v0,h0,𝜆,g):\n",
    "        \"\"\"use conservation of normal momentum to solve for r.\"\"\"\n",
    "        Vf = self.V0*self.H0/(self.H0+self.𝜆*r)\n",
    "        detadn_i = self.𝜂0/self.W\n",
    "        detadn_f = self.eta(r, 𝜂0 = self.𝜂0, V0 = self.V0, Cd = self.Cd, 𝜆 = self.𝜆, H0 = self.H0, g = self.g)/r\n",
    "        \n",
    "        return -Vf**2/( self.f*(2*self.V0 - Vf) + self.g*(detadn_i - detadn_f) ) - r\n",
    "    \n",
    "    def excursion_solve(self):\n",
    "        return fsolve(self.excursion, 5e3)\n",
    "    \n",
    "    def make_df(self):\n",
    "        names = [\"s\", \"depth\", \"speed\", \"𝜂\", \"dnds\", \"dvds\", \"nonlinear\", \"drag\", \"pgf\"]\n",
    "        data = [self.s, self.H, self.V, self.𝜂, self.d𝜂ds, self.dvds, self.sw_nlr, self.sw_drg, self.sw_pgf]\n",
    "        df = pd.DataFrame.from_dict(dict(zip(names,data)))\n",
    "        return df"
   ]
  },
  {
   "cell_type": "code",
   "execution_count": 76,
   "metadata": {},
   "outputs": [
    {
     "name": "stderr",
     "output_type": "stream",
     "text": [
      "/Users/WalterTorres/opt/anaconda3/envs/viz/lib/python3.7/site-packages/ipykernel_launcher.py:66: RuntimeWarning: divide by zero encountered in true_divide\n"
     ]
    },
    {
     "data": {
      "text/plain": [
       "<matplotlib.axes._subplots.AxesSubplot at 0x7faa3532cd50>"
      ]
     },
     "execution_count": 76,
     "metadata": {},
     "output_type": "execute_result"
    },
    {
     "data": {
      "image/png": "[encoded data removed]",
      "text/plain": [
       "<Figure size 432x288 with 1 Axes>"
      ]
     },
     "metadata": {
      "needs_background": "light"
     },
     "output_type": "display_data"
    }
   ],
   "source": [
    "s = np.linspace(0, 2e3, 1000)  \n",
    "r = np.linspace(0,4e3, 1000)\n",
    "\n",
    "V0 = 0.25\n",
    "H0 = 20\n",
    "𝜂0 = 0.01\n",
    "𝜆 = 0.1\n",
    "Cd = 0.03\n",
    "M = momentumAnalysis(V0 = V0, H0 = H0, 𝜆 = 𝜆, Cd = Cd)\n",
    "M.state(s)\n",
    "R = M.excursion_solve()\n",
    "df = M.make_df()\n",
    "\n",
    "value = M.excursion(r)\n",
    "sns.lineplot(r, value)"
   ]
  },
  {
   "cell_type": "code",
   "execution_count": null,
   "metadata": {},
   "outputs": [],
   "source": [
    "zero = hv.HLine(0).opts(line_width = 1, color = \"k\", alpha = .25)\n",
    "(df.hvplot.line(x = \"s\", y = [\"nonlinear\", \"drag\", \"pgf\"]) * zero +\n",
    " df.hvplot.line(x = \"s\", y = \"𝜂\") * zero).cols(1)"
   ]
  },
  {
   "cell_type": "markdown",
   "metadata": {},
   "source": [
    "### sandbox \n",
    "which can be non-dimensionalized by introducing $s = Rs^*$ as the offset distance, use the wave height $\\eta = H_s\\eta^*$ as a naive scaling for the free surface variation, the bathymetric slope for the topographic continuity term scale $\\lambda \\approx \\frac{\\partial H}{\\partial s}$, and a typical jet spreading angle ($d\\sigma = 15^{\\circ}= \\pi/24$) over the jet width $W_J$\n",
    "\n",
    "$$ \\lambda \\frac{V^2}{H} - \\frac{\\pi}{24}\\frac{V^2}{W_J} + C_D\\frac{V^2}{H} + \\frac{g H_s}{R}\\frac{\\partial \\eta^*}{\\partial s^*} = 0$$\n",
    "where $H(r) \\sim \\lambda R$ can be substituded in and terms rearranged to solve for $R$\n",
    "\n",
    "$$ R = \\frac{24W_J}{\\pi}\\big[ \\frac{g H_s}{V^2}\\frac{\\partial \\eta^*}{\\partial s^*} + 1 + \\frac{C_D}{\\lambda} )\\big]\n",
    "            $$\n"
   ]
  },
  {
   "cell_type": "markdown",
   "metadata": {},
   "source": [
    "Using continuity w/ $H = h + \\eta$ in combination with the streamwise momentum equation gives us two equations and two unknowns $(V,\\eta)$. Combining we get\n",
    "\n",
    "$$ V' = \\frac{-C_D\\frac{V^2}{H} + g\\lambda}{V + \\frac{gH}{V}} $$\n",
    "\n",
    "which can be analytically solved?"
   ]
  },
  {
   "cell_type": "code",
   "execution_count": 4,
   "metadata": {},
   "outputs": [
    {
     "data": {
      "image/png": "[encoded data removed]",
      "text/latex": [
       "$\\displaystyle \\frac{d}{d s} v{\\left(s \\right)} = \\frac{- \\frac{c v^{2}{\\left(s \\right)}}{h} + g \\lambda}{- \\frac{g h}{v{\\left(s \\right)}} + v{\\left(s \\right)}}$"
      ],
      "text/plain": [
       "                2         \n",
       "             c⋅v (s)      \n",
       "           - ─────── + g⋅λ\n",
       "d               h         \n",
       "──(v(s)) = ───────────────\n",
       "ds            g⋅h         \n",
       "            - ──── + v(s) \n",
       "              v(s)        "
      ]
     },
     "execution_count": 4,
     "metadata": {},
     "output_type": "execute_result"
    }
   ],
   "source": [
    "import sympy as sym\n",
    "sym.init_printing()\n",
    "\n",
    "s = sym.symbols('s', real = True)\n",
    "l, g, c, h, v0 = sym.symbols('lambda g c h, v0', real = True, constant = True)\n",
    "\n",
    "v = sym.Function('v')(s)\n",
    "dvds = v.diff(s)\n",
    "expr = sym.Eq(dvds, (-c*v**2/h + g*l)/(v - g*h/v) )\n",
    "expr"
   ]
  },
  {
   "cell_type": "code",
   "execution_count": 319,
   "metadata": {},
   "outputs": [],
   "source": [
    "sol = sym.dsolve(expr)"
   ]
  },
  {
   "cell_type": "code",
   "execution_count": 320,
   "metadata": {},
   "outputs": [
    {
     "data": {
      "image/png": "[encoded data removed]",
      "text/latex": [
       "$\\displaystyle - \\frac{\\log{\\left(v{\\left(s \\right)} \\right)}}{\\lambda} - \\frac{s}{h} + \\frac{\\left(c - \\lambda\\right) \\log{\\left(v^{2}{\\left(s \\right)} - \\frac{g h \\lambda}{c} \\right)}}{2 c \\lambda} = C_{1}$"
      ],
      "text/plain": [
       "                             ⎛ 2      g⋅h⋅λ⎞     \n",
       "                  (c - λ)⋅log⎜v (s) - ─────⎟     \n",
       "  log(v(s))   s              ⎝          c  ⎠     \n",
       "- ───────── - ─ + ────────────────────────── = C₁\n",
       "      λ       h             2⋅c⋅λ                "
      ]
     },
     "metadata": {},
     "output_type": "display_data"
    }
   ],
   "source": [
    "display(sol)#sym.simplify(sol))"
   ]
  },
  {
   "cell_type": "code",
   "execution_count": 321,
   "metadata": {},
   "outputs": [
    {
     "data": {
      "image/png": "[encoded data removed]",
      "text/latex": [
       "$\\displaystyle \\frac{- c \\log{\\left(v_{0} \\right)} + \\frac{\\left(c - \\lambda\\right) \\log{\\left(\\frac{c v_{0}^{2} - g h \\lambda}{c} \\right)}}{2}}{c \\lambda} + \\frac{- c h \\log{\\left(v{\\left(s \\right)} \\right)} - c \\lambda s + \\frac{h \\left(c - \\lambda\\right) \\log{\\left(\\frac{c v^{2}{\\left(s \\right)} - g h \\lambda}{c} \\right)}}{2}}{c h \\lambda} = 0$"
      ],
      "text/plain": [
       "                        ⎛    2        ⎞                                       \n",
       "                        ⎜c⋅v₀  - g⋅h⋅λ⎟                                       \n",
       "             (c - λ)⋅log⎜─────────────⎟                            h⋅(c - λ)⋅l\n",
       "                        ⎝      c      ⎠                                       \n",
       "-c⋅log(v₀) + ──────────────────────────   -c⋅h⋅log(v(s)) - c⋅λ⋅s + ───────────\n",
       "                         2                                                    \n",
       "─────────────────────────────────────── + ────────────────────────────────────\n",
       "                  c⋅λ                                              c⋅h⋅λ      \n",
       "\n",
       "  ⎛   2           ⎞    \n",
       "  ⎜c⋅v (s) - g⋅h⋅λ⎟    \n",
       "og⎜───────────────⎟    \n",
       "  ⎝       c       ⎠    \n",
       "───────────────────    \n",
       "   2                   \n",
       "─────────────────── = 0\n",
       "                       "
      ]
     },
     "execution_count": 321,
     "metadata": {},
     "output_type": "execute_result"
    }
   ],
   "source": [
    "c1 = sol.subs(v, V0).subs(s, 0).lhs\n",
    "eqn = sym.Eq(sol.lhs, c1)\n",
    "solution = sym.Eq( eqn.simplify().lhs + eqn.simplify().rhs, 0)\n",
    "solution"
   ]
  },
  {
   "cell_type": "code",
   "execution_count": 307,
   "metadata": {},
   "outputs": [
    {
     "name": "stdout",
     "output_type": "stream",
     "text": [
      "Help on function _lambdifygenerated:\n",
      "\n",
      "_lambdifygenerated(s, lambda_, g, c, h, v0)\n",
      "    Created with lambdify. Signature:\n",
      "    \n",
      "    func(s, lambda, g, c, h, v0)\n",
      "    \n",
      "    Expression:\n",
      "    \n",
      "    (-c*log(v0) + (c + lambda)*log((c*v0**2 - g*h*lambda)/c)/2)/(c*lambda) +...\n",
      "    \n",
      "    Source code:\n",
      "    \n",
      "    def _lambdifygenerated(s, lambda_, g, c, h, v0):\n",
      "        return ((-c*log(v0) + (1/2)*(c + lambda_)*log((c*v0**2 - g*h*lambda_)/c))/(c*lambda_) + (-c*h*log(v(s)) + c*lambda_*s + (1/2)*h*(c + lambda_)*log((c*v(s)**2 - g*h*lambda_)/c))/(c*h*lambda_))\n",
      "    \n",
      "    \n",
      "    Imported modules:\n",
      "\n"
     ]
    }
   ],
   "source": [
    "f = sym.lambdify( (s, l, g, c, h, v0), solution.lhs, \"math\")\n",
    "help(f)"
   ]
  },
  {
   "cell_type": "code",
   "execution_count": 1,
   "metadata": {},
   "outputs": [],
   "source": [
    "from scipy.optimize import fsolve\n",
    "\n",
    "args = (1, 9.81, 0.01, 20, 0.25)\n",
    "fsolve(f, 0.25, args = args)"
   ]
  },
  {
   "cell_type": "code",
   "execution_count": 287,
   "metadata": {},
   "outputs": [
    {
     "data": {
      "image/png": "[encoded data removed]",
      "text/latex": [
       "$\\displaystyle \\frac{d}{d s} v{\\left(s \\right)} = \\frac{\\left(\\frac{c v^{2}{\\left(s \\right)}}{h} + g \\lambda\\right) v{\\left(s \\right)}}{g h}$"
      ],
      "text/plain": [
       "           ⎛   2         ⎞     \n",
       "           ⎜c⋅v (s)      ⎟     \n",
       "           ⎜─────── + g⋅λ⎟⋅v(s)\n",
       "d          ⎝   h         ⎠     \n",
       "──(v(s)) = ────────────────────\n",
       "ds                 g⋅h         "
      ]
     },
     "execution_count": 287,
     "metadata": {},
     "output_type": "execute_result"
    }
   ],
   "source": [
    "#simplify assume gh/v >> V\n",
    "expr = sym.Eq(dvds, (c*v**2/h + g*l)/(g*h/v) )\n",
    "expr"
   ]
  },
  {
   "cell_type": "code",
   "execution_count": 289,
   "metadata": {},
   "outputs": [],
   "source": [
    "sol2 = sym.dsolve(expr)"
   ]
  },
  {
   "cell_type": "code",
   "execution_count": null,
   "metadata": {},
   "outputs": [],
   "source": [
    "display(sol2)"
   ]
  },
  {
   "cell_type": "code",
   "execution_count": 2,
   "metadata": {},
   "outputs": [],
   "source": [
    "args = (.1,9.81,0.01,20)\n",
    "f(s, *args)"
   ]
  },
  {
   "cell_type": "markdown",
   "metadata": {},
   "source": [
    "## Normal direction\n"
   ]
  },
  {
   "cell_type": "markdown",
   "metadata": {},
   "source": [
    "Assuming the initial motion of the jet is inertial, i.e. $K = \\frac{f}{V_J}$, its initial net potential vorticity is 0. If PV is conserved as it evolves into the alongshore current along the isobath with radius of curvature $R = r + R_i$ where $R_i$ is the island radius, and that the radial and normal directions are coincindent\n",
    "\n",
    "$$ f - \\frac{dV}{dr} + \\frac{V}{R} = 0 $$\n",
    "\n",
    "This can be separated and integrated to solve for $V$ using the no-slip boundary condition $V(r = 0) = 0$\n",
    "\n",
    "$$ V = fR\\log{ \\frac{R}{R_i} } $$\n",
    "\n",
    "Now we can apply conservation of mass to estimate the width of the coastal current $R_c$ for a given outflow mass flux $Q_0 = V_JW_JH_0$.\n",
    "\n",
    "$$ \\int_{0}^{R_c} V(r)h(r) dr = Q_0 $$\n",
    "\n",
    "With a known depth $h(r) = H_0 + \\lambda r$ and velocity profile, the above can be integrated solved for $R_c$"
   ]
  },
  {
   "cell_type": "code",
   "execution_count": 552,
   "metadata": {},
   "outputs": [
    {
     "data": {
      "image/png": "[encoded data removed]",
      "text/latex": [
       "$\\displaystyle Wj h_{0} v_{0} = \\frac{f \\left(6 Ri^{2} \\left(Ri \\lambda - 3 h_{0}\\right) \\log{\\left(Ri \\right)} - 6 Ri^{2} \\left(Ri \\lambda - 3 h_{0}\\right) \\log{\\left(Ri + Wc \\right)} + 6 Ri Wc \\left(Ri \\lambda - 3 h_{0}\\right) - 4 Wc^{3} \\lambda - 3 Wc^{2} \\left(Ri \\lambda + 3 h_{0}\\right) + 6 Wc \\left(3 Ri Wc \\lambda + 6 Ri h_{0} + 2 Wc^{2} \\lambda + 3 Wc h_{0}\\right) \\log{\\left(\\frac{Ri + Wc}{Ri} \\right)}\\right)}{36}$"
      ],
      "text/plain": [
       "             ⎛    2                             2                             \n",
       "           f⋅⎜6⋅Ri ⋅(Ri⋅λ - 3⋅h₀)⋅log(Ri) - 6⋅Ri ⋅(Ri⋅λ - 3⋅h₀)⋅log(Ri + Wc) +\n",
       "             ⎝                                                                \n",
       "Wj⋅h₀⋅v₀ = ───────────────────────────────────────────────────────────────────\n",
       "                                                                              \n",
       "\n",
       "                             3         2                      ⎛               \n",
       " 6⋅Ri⋅Wc⋅(Ri⋅λ - 3⋅h₀) - 4⋅Wc ⋅λ - 3⋅Wc ⋅(Ri⋅λ + 3⋅h₀) + 6⋅Wc⋅⎝3⋅Ri⋅Wc⋅λ + 6⋅R\n",
       "                                                                              \n",
       "──────────────────────────────────────────────────────────────────────────────\n",
       "                        36                                                    \n",
       "\n",
       "           2            ⎞    ⎛Ri + Wc⎞⎞\n",
       "i⋅h₀ + 2⋅Wc ⋅λ + 3⋅Wc⋅h₀⎠⋅log⎜───────⎟⎟\n",
       "                             ⎝   Ri  ⎠⎠\n",
       "───────────────────────────────────────\n",
       "                                       "
      ]
     },
     "execution_count": 552,
     "metadata": {},
     "output_type": "execute_result"
    }
   ],
   "source": [
    "#v = sym.Function('v')(n)\n",
    "r = sym.symbols('r', real = True)\n",
    "h0, v0, q0, l, f, Ri, Wc, Wj = sym.symbols('h0 v0 q0 lambda f Ri Wc Wj', real = True, constant = True)\n",
    "R = r + Ri\n",
    "v = f*R*sym.log(R/Ri) #define velocity function\n",
    "h = h0 + l*r #define depth profile\n",
    "expr = v*h #integrand\n",
    "result =  sym.integrate(expr,(r,0,Wc))\n",
    "eqn = sym.Eq(result,v0*h0*Wj)\n",
    "fn = (result - v0*h0*Wj)\n",
    "eqn.simplify()"
   ]
  },
  {
   "cell_type": "markdown",
   "metadata": {},
   "source": [
    "which although a bit unwieldy and very nonlinear, can be solved implicitly using scipy's *fsolve* root finding function. For the parameters used in model simulations\n",
    "$\\lambda = 0.1, H_0 = 20m, R_i = 12e3, f = 3.6e-5, W_J = 1000, V_0 = 0.25 m/s$"
   ]
  },
  {
   "cell_type": "code",
   "execution_count": 558,
   "metadata": {},
   "outputs": [
    {
     "data": {
      "text/latex": [
       "$\\displaystyle W_c = 1485 m$"
      ],
      "text/plain": [
       "<IPython.core.display.Math object>"
      ]
     },
     "metadata": {},
     "output_type": "display_data"
    },
    {
     "data": {
      "text/latex": [
       "$\\displaystyle V_c = 0.057 m/s$"
      ],
      "text/plain": [
       "<IPython.core.display.Math object>"
      ]
     },
     "metadata": {},
     "output_type": "display_data"
    }
   ],
   "source": [
    "from IPython.display import display, Math\n",
    "F = sym.lambdify( (Wc,l,h0,Ri,f,Wj,v0), fn, 'numpy')\n",
    "Fv = sym.lambdify((f,r,Ri), v)\n",
    "wc = fsolve(F, 1e3, args = (0.1, 20, 12e3, 3.645e-5, 1000, 0.25) )\n",
    "vc = Fv(3.645e-5,wc,12e3)\n",
    "display(Math(fr\"$W_c = {int(wc[0])} m$\"))\n",
    "display(Math(fr\"$V_c = {vc[0]:0.3f} m/s$\"))"
   ]
  },
  {
   "cell_type": "code",
   "execution_count": 220,
   "metadata": {
    "tags": []
   },
   "outputs": [
    {
     "data": {
      "image/png": "[encoded data removed]",
      "text/latex": [
       "$\\displaystyle f = 0$"
      ],
      "text/plain": [
       "f = 0"
      ]
     },
     "execution_count": 220,
     "metadata": {},
     "output_type": "execute_result"
    }
   ],
   "source": [
    "from scipy.optimize import fsolve\n",
    "\n",
    "\n",
    "r, n = sym.symbols('r n', real = True)\n",
    "v = sym.Function('v')(n)\n",
    "𝜂 = sym.Function('eta')(n)\n",
    "\n",
    "h0, v0, q0, l, f, Ri, c1 = sym.symbols('h0 v0 q0 lambda f Ri c1 c2', real = True, constant = True)\n",
    "\n",
    "expr = sym.Eq(f, v0*h0*(-1/( (h0+l*r)*(r)) + 1/(r*(h0+l*r) ) ) )\n",
    "expr"
   ]
  },
  {
   "cell_type": "code",
   "execution_count": 83,
   "metadata": {},
   "outputs": [],
   "source": [
    "# sym.solve(expr,'r')\n",
    "def cons_pv(r, h0 = 20, v0 = 0.25, 𝜆 = 0.1, f = -3e-5):\n",
    "    return v0*h0*(-1/( (h0+𝜆*r)*r + 1/( r*(h0+𝜆*r) )) - f\n",
    "\n",
    "# fsolve(cons_pv, 5e3)"
   ]
  },
  {
   "cell_type": "code",
   "execution_count": 86,
   "metadata": {},
   "outputs": [
    {
     "data": {
      "text/plain": [
       "<matplotlib.axes._subplots.AxesSubplot at 0x7faa36a20b90>"
      ]
     },
     "execution_count": 86,
     "metadata": {},
     "output_type": "execute_result"
    },
    {
     "data": {
      "image/png": "[encoded data removed]",
      "text/plain": [
       "<Figure size 432x288 with 1 Axes>"
      ]
     },
     "metadata": {
      "needs_background": "light"
     },
     "output_type": "display_data"
    }
   ],
   "source": [
    "r = np.linspace(-1e3,1e3,1000)\n",
    "\n",
    "value = cons_pv(r)\n",
    "sns.lineplot(r,value)"
   ]
  },
  {
   "cell_type": "code",
   "execution_count": 382,
   "metadata": {},
   "outputs": [
    {
     "ename": "SyntaxError",
     "evalue": "can't assign to operator (<ipython-input-382-9ff03fbfd973>, line 1)",
     "output_type": "error",
     "traceback": [
      "\u001b[0;36m  File \u001b[0;32m\"<ipython-input-382-9ff03fbfd973>\"\u001b[0;36m, line \u001b[0;32m1\u001b[0m\n\u001b[0;31m    (dvdn + vk + f)/h0 = (dvdn + v/r + f)/(h0 + r*l)\u001b[0m\n\u001b[0m                                                    ^\u001b[0m\n\u001b[0;31mSyntaxError\u001b[0m\u001b[0;31m:\u001b[0m can't assign to operator\n"
     ]
    }
   ],
   "source": [
    "(dvdn + vk + f)/h0 = (dvdn + v/r + f)/(h0 + r*l)\n",
    "dvdn = -v/r - f\n"
   ]
  },
  {
   "cell_type": "markdown",
   "metadata": {},
   "source": [
    "## free surface solution"
   ]
  },
  {
   "cell_type": "code",
   "execution_count": 427,
   "metadata": {},
   "outputs": [
    {
     "data": {
      "image/png": "[encoded data removed]",
      "text/latex": [
       "$\\displaystyle \\frac{- f r \\left(h_{0} + \\lambda r\\right) \\left(f \\left(Ri + r\\right) \\left(h_{0} + \\lambda r\\right) + q_{0}\\right) + g r \\left(Ri + r\\right) \\left(h_{0} + \\lambda r\\right)^{2} \\frac{d^{2}}{d n^{2}} \\eta{\\left(n \\right)} - 2 q_{0} \\left(f \\left(Ri + r\\right) \\left(h_{0} + \\lambda r\\right) + q_{0}\\right)}{r \\left(Ri + r\\right) \\left(h_{0} + \\lambda r\\right)^{2}}$"
      ],
      "text/plain": [
       "                                                                          2   \n",
       "                                                                      2  d    \n",
       "-f⋅r⋅(h₀ + λ⋅r)⋅(f⋅(Ri + r)⋅(h₀ + λ⋅r) + q₀) + g⋅r⋅(Ri + r)⋅(h₀ + λ⋅r) ⋅───(η(\n",
       "                                                                          2   \n",
       "                                                                        dn    \n",
       "──────────────────────────────────────────────────────────────────────────────\n",
       "                                                                     2        \n",
       "                                                r⋅(Ri + r)⋅(h₀ + λ⋅r)         \n",
       "\n",
       "                                       \n",
       "                                       \n",
       "n)) - 2⋅q₀⋅(f⋅(Ri + r)⋅(h₀ + λ⋅r) + q₀)\n",
       "                                       \n",
       "                                       \n",
       "───────────────────────────────────────\n",
       "                                       \n",
       "                                       "
      ]
     },
     "execution_count": 427,
     "metadata": {},
     "output_type": "execute_result"
    }
   ],
   "source": [
    "expr = v**2/(r)\n",
    "+ f*v + g*𝜂.diff(n) #take normal derivative of momentum equation\n",
    "shear = expr.diff(n).subs(v.diff(n), -v/(r+Ri) - f).subs(v, q0/(h0 + l*r)).simplify() #substitute conservation of pv\n",
    "shear #.simplify()"
   ]
  },
  {
   "cell_type": "code",
   "execution_count": 428,
   "metadata": {},
   "outputs": [
    {
     "data": {
      "image/png": "[encoded data removed]",
      "text/latex": [
       "$\\displaystyle \\frac{Ri f^{2} h_{0}^{2} r + 2 Ri f^{2} h_{0} \\lambda r^{2} + Ri f^{2} \\lambda^{2} r^{3} + 2 Ri f h_{0} q_{0} + 2 Ri f \\lambda q_{0} r + f^{2} h_{0}^{2} r^{2} + 2 f^{2} h_{0} \\lambda r^{3} + f^{2} \\lambda^{2} r^{4} + 3 f h_{0} q_{0} r + 3 f \\lambda q_{0} r^{2} + 2 q_{0}^{2}}{g r \\left(Ri + r\\right) \\left(h_{0} + \\lambda r\\right)^{2}}$"
      ],
      "text/plain": [
       "    2   2           2       2       2  2  3                                   \n",
       "Ri⋅f ⋅h₀ ⋅r + 2⋅Ri⋅f ⋅h₀⋅λ⋅r  + Ri⋅f ⋅λ ⋅r  + 2⋅Ri⋅f⋅h₀⋅q₀ + 2⋅Ri⋅f⋅λ⋅q₀⋅r + f\n",
       "──────────────────────────────────────────────────────────────────────────────\n",
       "                                                                              \n",
       "                                                              g⋅r⋅(Ri + r)⋅(h₀\n",
       "\n",
       "2   2  2      2       3    2  2  4                           2       2\n",
       " ⋅h₀ ⋅r  + 2⋅f ⋅h₀⋅λ⋅r  + f ⋅λ ⋅r  + 3⋅f⋅h₀⋅q₀⋅r + 3⋅f⋅λ⋅q₀⋅r  + 2⋅q₀ \n",
       "──────────────────────────────────────────────────────────────────────\n",
       "       2                                                              \n",
       " + λ⋅r)                                                               "
      ]
     },
     "execution_count": 428,
     "metadata": {},
     "output_type": "execute_result"
    }
   ],
   "source": [
    "expr = sym.solve(sym.Eq(shear, 0), 𝜂.diff(n).diff(n))\n",
    "#sol = sym.integrate(sym.integrate(expr[0], r) + c1, r) #.simplify() \n",
    "\n",
    "#sym.Eq( (sol + c2).simplify(i\n",
    "expr[0].simplify()"
   ]
  },
  {
   "cell_type": "code",
   "execution_count": 394,
   "metadata": {},
   "outputs": [
    {
     "data": {
      "image/png": "[encoded data removed]",
      "text/latex": [
       "$\\displaystyle \\frac{c_{1} g h_{0}^{3} \\lambda + \\tilde{\\infty} h_{0} \\lambda q_{0}^{2} + \\lambda q_{0} \\left(3 f h_{0}^{2} - 4 \\lambda q_{0}\\right) \\left(- \\log{\\left(\\frac{h_{0}}{\\lambda} \\right)} + \\tilde{\\infty}\\right) - \\lambda q_{0} \\left(3 f h_{0}^{2} - 2 \\lambda q_{0}\\right)}{g h_{0}^{3} \\lambda} = 0$"
      ],
      "text/plain": [
       "       3                2        ⎛      2         ⎞ ⎛     ⎛h₀⎞      ⎞        ⎛\n",
       "c₁⋅g⋅h₀ ⋅λ + zoo⋅h₀⋅λ⋅q₀  + λ⋅q₀⋅⎝3⋅f⋅h₀  - 4⋅λ⋅q₀⎠⋅⎜- log⎜──⎟ + zoo⎟ - λ⋅q₀⋅⎝\n",
       "                                                    ⎝     ⎝λ ⎠      ⎠         \n",
       "──────────────────────────────────────────────────────────────────────────────\n",
       "                                                3                             \n",
       "                                            g⋅h₀ ⋅λ                           \n",
       "\n",
       "      2         ⎞    \n",
       "3⋅f⋅h₀  - 2⋅λ⋅q₀⎠    \n",
       "                     \n",
       "───────────────── = 0\n",
       "                     \n",
       "                     "
      ]
     },
     "execution_count": 394,
     "metadata": {},
     "output_type": "execute_result"
    }
   ],
   "source": [
    "#sol.diff(r).simplify()\n",
    "sym.Eq(sol.diff(r).subs(r,0),0)"
   ]
  },
  {
   "cell_type": "code",
   "execution_count": 373,
   "metadata": {},
   "outputs": [
    {
     "data": {
      "image/png": "[encoded data removed]",
      "text/latex": [
       "$\\displaystyle \\frac{2 q_{0}^{2}}{g h_{0}^{2} r} + \\frac{q_{0} \\left(f h_{0}^{2} + 4 \\lambda q_{0}\\right) \\left(\\log{\\left(r \\right)} - \\log{\\left(\\frac{h_{0} + \\lambda r}{r} \\right)}\\right)}{g h_{0}^{3}} + \\frac{2 h_{0} \\lambda q_{0}^{2}}{g h^{3} \\left(h_{0} + \\lambda r\\right)}$"
      ],
      "text/plain": [
       "             ⎛    2         ⎞ ⎛            ⎛h₀ + λ⋅r⎞⎞                  \n",
       "     2    q₀⋅⎝f⋅h₀  + 4⋅λ⋅q₀⎠⋅⎜log(r) - log⎜────────⎟⎟               2  \n",
       " 2⋅q₀                         ⎝            ⎝   r    ⎠⎠      2⋅h₀⋅λ⋅q₀   \n",
       "─────── + ──────────────────────────────────────────── + ───────────────\n",
       "    2                            3                          3           \n",
       "g⋅h₀ ⋅r                      g⋅h₀                        g⋅h ⋅(h₀ + λ⋅r)"
      ]
     },
     "execution_count": 373,
     "metadata": {},
     "output_type": "execute_result"
    }
   ],
   "source": [
    "#Apply bc's dn/dr(r = 0) = 0 no slip\n",
    "\n",
    "#bc1 = 2*f*q0*(-1 + sym.log(r) - sym.log(h0/l) )/(g*h0) + 2*q0**2/(h0**2*r*g)\n",
    "bc1 = q0*(f*h0**2 + 4*l*q0)*(sym.log(r) - sym.log( (h0+l*r)/r) )/ (g*h0**3) + 2*q0**2/(g*h0**2*r) + 2*h0*l*q0**2/(g*h**3*(h0+l*r))\n",
    "\n",
    "bc1\n",
    "#eta_ana = sol.subs(c1,bc1).simplify().diff(r).subs(r,0) #check BC\n",
    "#eta_ana.diff(r).simplify()\n",
    "#eta_ana"
   ]
  },
  {
   "cell_type": "code",
   "execution_count": 291,
   "metadata": {},
   "outputs": [
    {
     "data": {
      "image/png": "[encoded data removed]",
      "text/latex": [
       "$\\displaystyle \\frac{f \\left(- f h_{0} r - 2 q_{0} \\log{\\left(\\frac{h_{0}}{\\lambda} \\right)} + 2 q_{0} \\log{\\left(\\frac{h_{0} + \\lambda r}{\\lambda} \\right)}\\right)}{g h_{0}}$"
      ],
      "text/plain": [
       "  ⎛                  ⎛h₀⎞           ⎛h₀ + λ⋅r⎞⎞\n",
       "f⋅⎜-f⋅h₀⋅r - 2⋅q₀⋅log⎜──⎟ + 2⋅q₀⋅log⎜────────⎟⎟\n",
       "  ⎝                  ⎝λ ⎠           ⎝   λ    ⎠⎠\n",
       "───────────────────────────────────────────────\n",
       "                      g⋅h₀                     "
      ]
     },
     "execution_count": 291,
     "metadata": {},
     "output_type": "execute_result"
    }
   ],
   "source": [
    "detadr_ana = sol.subs(c1,bc1).diff(r).simplify()\n",
    "detadr_ana"
   ]
  },
  {
   "cell_type": "code",
   "execution_count": 292,
   "metadata": {},
   "outputs": [],
   "source": [
    "F_eta = sym.lambdify( (r, f,h0,l,q0,g), eta_ana, 'numpy')\n",
    "F_detadr = sym.lambdify( (r, f,h0,l,q0,g), detadr_ana, 'numpy')"
   ]
  },
  {
   "cell_type": "code",
   "execution_count": 293,
   "metadata": {},
   "outputs": [],
   "source": [
    "rn = np.linspace(1,10e3,1000)\n",
    "fs = F_eta(rn, -3e-5, 20, 0.1, 20*0.25,9.81)\n",
    "dfs = F_detadr(rn, -3e-5, 20, 0.1, 20*0.25,9.81)"
   ]
  },
  {
   "cell_type": "code",
   "execution_count": 310,
   "metadata": {},
   "outputs": [
    {
     "data": {
      "text/plain": [
       "<matplotlib.axes._subplots.AxesSubplot at 0x7faa3833e490>"
      ]
     },
     "execution_count": 310,
     "metadata": {},
     "output_type": "execute_result"
    },
    {
     "data": {
      "image/png": "[encoded data removed]",
      "text/plain": [
       "<Figure size 432x288 with 1 Axes>"
      ]
     },
     "metadata": {
      "needs_background": "light"
     },
     "output_type": "display_data"
    }
   ],
   "source": [
    "#sns.lineplot(rn,fs)\n",
    "sns.lineplot(rn,dfs)"
   ]
  },
  {
   "cell_type": "code",
   "execution_count": 312,
   "metadata": {},
   "outputs": [],
   "source": [
    "def gradient_wind(r, f, dndr, g = 9.81):\n",
    "    return -r*f/2 + (r**2*f**2/4 - r*g*dndr)**(0.5), \\\n",
    "           -r*f/2 - (r**2*f**2/4 - r*g*dndr)**(0.5)"
   ]
  },
  {
   "cell_type": "code",
   "execution_count": 315,
   "metadata": {},
   "outputs": [
    {
     "data": {
      "text/plain": [
       "<matplotlib.axes._subplots.AxesSubplot at 0x7faa3835a950>"
      ]
     },
     "execution_count": 315,
     "metadata": {},
     "output_type": "execute_result"
    },
    {
     "data": {
      "image/png": "[encoded data removed]",
      "text/plain": [
       "<Figure size 432x288 with 1 Axes>"
      ]
     },
     "metadata": {
      "needs_background": "light"
     },
     "output_type": "display_data"
    }
   ],
   "source": [
    "vt1, vt2 = gradient_wind(rn, -3e-5, dfs)\n",
    "\n",
    "sns.lineplot(rn,vt1)\n",
    "sns.lineplot(rn,vt2)"
   ]
  },
  {
   "cell_type": "code",
   "execution_count": null,
   "metadata": {},
   "outputs": [],
   "source": []
  }
 ],
 "metadata": {
  "kernelspec": {
   "display_name": "Python 3",
   "language": "python",
   "name": "python3"
  },
  "language_info": {
   "codemirror_mode": {
    "name": "ipython",
    "version": 3
   },
   "file_extension": ".py",
   "mimetype": "text/x-python",
   "name": "python",
   "nbconvert_exporter": "python",
   "pygments_lexer": "ipython3",
   "version": "3.9.4"
  }
 },
 "nbformat": 4,
 "nbformat_minor": 4
}
