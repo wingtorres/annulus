{
 "cells": [
  {
   "cell_type": "markdown",
   "metadata": {},
   "source": [
    "# Deflected jet in a crossflow\n"
   ]
  },
  {
   "cell_type": "markdown",
   "metadata": {},
   "source": [
    "## Theory\n",
    "\n",
    "Starting with the momentum equations with the nonlinear term written as the sum of Lamb vector and velocity head gradient.\n",
    "\n",
    "$$ \\frac{\\partial \\vec{u} }{\\partial t} +  \\frac{1}{2} \\nabla(\\vec{u} \\cdot \\vec{u}) - \\vec{u} \\times \\omega + f(\\hat{k} \\times \\vec{u}) + \\frac{ C_d V}{H}\\vec{u} + \\textbf{g} \\nabla \\eta = 0  $$"
   ]
  },
  {
   "cell_type": "markdown",
   "metadata": {},
   "source": [
    "The velocity can be decomposed into components due to the jet outflow and crossflow components, subscripts $J$ and $c$ respectively\n",
    "\n",
    "$$ \\vec{u} = \\vec{u_J} + \\vec{u_c} $$\n",
    "\n",
    "$$ \\vec{u} = \\frac{\\hat{s}}{V} $$\n",
    "consequently the speed of the resultant flow can be defined using the law of cosines as \n",
    "\n",
    "$$ V = \\sqrt{V_J^2 + V_c^2 + 2V_cV_J\\cos{\\gamma}} $$\n",
    "\n",
    "where $V_J$ and $V_c$ are the jet outflow and crossflow speeds and $\\gamma$ is the angle between the two components. $\\alpha$ is the orientation of the flow relative to the Cartesian x-axis\n",
    "\n"
   ]
  },
  {
   "cell_type": "markdown",
   "metadata": {},
   "source": [
    "The momentum equation now restated assuming steady flow, substituting in the velocity decomposition\n",
    "\n",
    "$$ \\frac{1}{2} \\nabla u_J^2 + \\nabla(u_J\\cdot u_c) + \\frac{1}{2} \\nabla u_c^2 + \\tilde{\\omega} \\times u_J + \\tilde{\\omega} \\times u_C + f(\\hat{k} \\times (u_J + u_c)) + \\frac{ C_d V}{H}(u_J + u_c) + \\textbf{g} \\nabla \\eta = 0  $$\n",
    "\n",
    "**note**: here we linearize the Lamb vector in $(s,n)$ coordinates so that only the vorticity of the jet is accounted for rather than that of the resultant crossflow+jet circulation. This is reasonable if the crossflow is not sheared and possesses no curvature \n",
    "$\\tilde{\\omega} = -\\frac{\\partial V_J}{\\partial n} + V_JK_J$\n",
    "\n",
    "(do scaling for vorticity)"
   ]
  },
  {
   "cell_type": "markdown",
   "metadata": {},
   "source": [
    "\n",
    "After applying the definition of the gradient in $(s,n)$ coordinates $\\nabla = \\hat{s} \\frac{\\partial }{\\partial s} + \\hat{n} \\frac{\\partial }{\\partial n}$ we expand the above into components with respect to the jet orientation, but retaining the combined jet+crossflow speed ($\\hat{s}\\sim\\hat{s}_J$) - a simplifying assumption.\n",
    "\n",
    "$$ u_J \\frac{\\partial u_J}{\\partial s} \\hat{s} +  \n",
    "\\frac{\\partial}{\\partial s}(u_J\\cdot u_C) \\hat{s} + \n",
    "u_c \\frac{\\partial u_c}{\\partial s} \\hat{s} + \n",
    " u_J \\frac{\\partial u_J}{\\partial n} \\hat{n} +  \n",
    "\\frac{\\partial}{\\partial n}(u_J\\cdot u_C) \\hat{n} + \n",
    "u_c \\frac{\\partial u_c}{\\partial n} \\hat{n} + \n",
    "V_J\\big[-\\frac{\\partial V_J}{\\partial n} + V_JK_J\\big] \\hat{n} + \n",
    "fV \\hat{n} +\n",
    "C_D \\frac{V}{H}(u_J + u_c) \\hat{s} + \n",
    "g \\frac{\\partial \\eta}{\\partial s} \\hat{s} +\n",
    "g \\frac{\\partial \\eta}{\\partial n} \\hat{n} = 0\n",
    "$$\n",
    "\n",
    "(missing correct projection terms, e.g. coriolis ends up in sw too)"
   ]
  },
  {
   "cell_type": "markdown",
   "metadata": {},
   "source": [
    "After partitioning into components and simplifying\n",
    "\n",
    "$$ \n",
    "u_J \\frac{\\partial u_J}{\\partial s} +  \n",
    "\\frac{\\partial}{\\partial s}(u_J\\cdot u_C)  + \n",
    "u_c \\frac{\\partial u_c}{\\partial s} + \n",
    "C_D \\frac{V^2}{H}  +\n",
    "g \\frac{\\partial \\eta}{\\partial s}  = 0 \n",
    "$$\n",
    "\n",
    "$$ \n",
    " \\frac{\\partial}{\\partial n}(u_J\\cdot u_C)  + \n",
    "u_c \\frac{\\partial u_c}{\\partial n} +\n",
    "V_J^2 K_J +\n",
    "fV +\n",
    "g \\frac{\\partial \\eta}{\\partial n}  = 0\n",
    "$$"
   ]
  },
  {
   "cell_type": "markdown",
   "metadata": {},
   "source": [
    "We now make the argument that the along stream variation of the imposed uniform crossflow is negligible $\\frac{\\partial u_c}{\\partial s} \\sim 0$, while we retain the additional stress-type terms arising from the velocity decomposition, arriving at the final result.\n",
    "\n",
    "$$ \n",
    "V\\frac{\\partial u_J}{\\partial s} +  \n",
    "C_D \\frac{V^2}{H}  +\n",
    "g \\frac{\\partial \\eta}{\\partial s}  = 0 \n",
    "$$\n",
    "\n",
    "$$ \n",
    " \\frac{\\partial}{\\partial n}(u_J\\cdot u_c)  + \n",
    "u_c \\frac{\\partial u_c}{\\partial n} +\n",
    "V_J^2 K_J +\n",
    "fV +\n",
    "g \\frac{\\partial \\eta}{\\partial n}  = 0\n",
    "$$"
   ]
  },
  {
   "cell_type": "markdown",
   "metadata": {},
   "source": [
    "Scale analysis of the terms in the normal momentum balance should prove useful for diagnosing the principality of rotation or crossflow-jet interactions in deflecting the feature. The equation in non-dimensional terms shown below using the jet width for the $n^* = \\frac{n}{W}$ scale and a characteristic radius of curvature $K* = RK$ to non-dimensionalize the curvature.\n",
    "\n",
    "$$ \\frac{R}{W_J}\\frac{V_c}{V_J} \\frac{\\partial}{\\partial n^*}(u_J^*\\cdot u_c^*) + \n",
    "\\frac{R}{W_J}\\frac{V_c^2}{V_J^2} u_c^* \\frac{\\partial u_c^*}{\\partial n^*}+ \n",
    "K^* + \n",
    "\\frac{R fV}{V_J^2} + \\text{Eu} \\frac{\\partial \\eta^*}{\\partial n^*} = 0 $$\n"
   ]
  },
  {
   "cell_type": "markdown",
   "metadata": {},
   "source": [
    "After which we get several non-dimensional numbers: \n",
    "- $\\frac{R}{W_J}$ curvature-to-width ratio (as in river meander literature)\n",
    "- $\\frac{V_c}{V_J}$ the ratio of crossflow to jet outflow velocity, and\n",
    "- $Ro = \\frac{V_J^2}{RfV}$ a rather strange form of the Rossby number"
   ]
  },
  {
   "cell_type": "markdown",
   "metadata": {},
   "source": [
    "If we allow the radius of curvature to be determined by the inertial radius $R = V_J/f$, and realize that for consecutive flows V_c ~ V_j, the equation simplifies to\n",
    "\n",
    "$$ \n",
    "\\frac{V_J}{fW_J} \\frac{\\partial}{\\partial n^*}(u_J^*\\cdot u_c^*) + \n",
    "\\frac{V_J}{fW_J} u_c^* \\frac{\\partial u_c^*}{\\partial n^*}+ \n",
    "K^* + \n",
    "\\frac{V}{V_J} + \\text{Eu} \\frac{\\partial \\eta^*}{\\partial n^*} = 0 $$\n",
    "\n",
    "admitting a jet outflow Rossby number $\\text{Ro} = \\frac{V_J}{fW_J}$ while the strength of the non-dimensional Coriolis term is bounded by $\\sqrt{2} < V/V_J< 2$\n",
    "\n",
    "- *calculate gradients between bounding streamlines within jet? uc = outer uj = centerline?\n",
    "- *subtract coastal current profile from flow field to look at jet+interaction field?"
   ]
  },
  {
   "cell_type": "markdown",
   "metadata": {},
   "source": [
    "For consecutive jets, we argue that $V_c/V_j$ simply depends on the jet excursion distance (at which it aligns to isobaths and forms a coastal current), jet spacing, and bottom drag coefficient. For barotropic radial outflow on a slope\n",
    "\n",
    "$$ V_0 = \\frac{V_JH_0}{H_0 + \\lambda s} $$\n",
    "\n",
    "which once aligned to topography decays as\n",
    "\n",
    "$$ V_c = V_0 e^{-\\frac{C_D}{H}W_r} $$\n"
   ]
  },
  {
   "cell_type": "markdown",
   "metadata": {},
   "source": [
    "Combining the two gives\n",
    "\n",
    "$$ \\frac{V_c}{V_J} = \\frac{H_0}{H_0 + \\lambda \\mathbb{S}}e^{-\\frac{C_D}{H_0 + \\lambda \\mathbb{S}}W_r} $$\n",
    "\n",
    "where $\\mathbb{S}$ is the jet excursion distance. \n"
   ]
  },
  {
   "cell_type": "markdown",
   "metadata": {},
   "source": [
    "$$V_0 = f\\mathbb{R}\\log{\\frac{\\mathbb{R}}{R_i}} $$\n",
    "$$ V_c = V_0e^{-\\frac{C_D}{H_0 + \\lambda \\mathbb{R}}W_r}$$"
   ]
  },
  {
   "cell_type": "code",
   "execution_count": 140,
   "metadata": {},
   "outputs": [],
   "source": [
    "import numpy as np\n",
    "import pandas as pd\n",
    "import seaborn as sns\n",
    "from scipy.optimize import fsolve\n",
    "import dill\n",
    "from pycoawst.utility.general import coriolis\n",
    "\n",
    "Fr = dill.load(open(\"F_r\", \"rb\"))\n",
    "Fv = dill.load(open(\"F_v\", \"rb\"))\n",
    "\n",
    "f0 = coriolis(-30)\n",
    "wj = 1e3\n",
    "wr = 6e3\n",
    "vj = 0.25\n",
    "Cd = 0.1\n",
    "𝜆 = 0.1\n",
    "h0 = 20\n",
    "Ri = 12e3\n",
    "v0 = 0.25\n",
    "\n",
    "def stockdon06(Hs = 1, L = 75, B = 0.1):\n",
    "    return 0.35*B*(Hs*L)**0.5\n",
    "\n",
    "def reef_model(Hs = 0.5, Cd = 0.01, hr = 2.0, hj = 20.0, Wr = 6e3, Wj = 500, Lr = 1e3, Ll = 1e3, g = 9.81):\n",
    "    etar = stockdon06(Hs = Hs)\n",
    "    vr = (1/hr)*np.sqrt(g*etar/Lr)*( Cd/hr**3 + \n",
    "        (1/Lr)*(1/hj)**2*(Wr/Ll - 1) +\n",
    "        Cd*(Wr/Lr)/hj**3 + 0*(np.pi/2)*Wr**2/(hj**2 * Wj**3) + \n",
    "        Cd*Wr**2/(hj**3 * Wj**2) )**(-.5)\n",
    "    vj = vr*(hr/hj)*(Wr/Wj)\n",
    "    return vj\n",
    "\n",
    "def vconvj(Fr, Fv, lat = -30, Cd = 0.1, 𝜆 = 0.1, h0 = 20, Ri = 12e3, wj = 350, v0 = 0.25):\n",
    "    f = coriolis(lat)\n",
    "    v0 = reef_model(Cd = Cd, Wj = wj)\n",
    "    width = abs(fsolve(Fr, 1e3, args = (𝜆, h0, Ri, f, wj, v0) ))#why negative for negative f?\n",
    "    speed = abs(Fv(f, width, Ri))\n",
    "    vc = speed*np.exp(-wr*Cd/(20+0.1*width))\n",
    "    return (vc/vj)[0]"
   ]
  },
  {
   "cell_type": "code",
   "execution_count": 144,
   "metadata": {},
   "outputs": [
    {
     "data": {
      "image/png": "[encoded data removed]",
      "text/plain": [
       "<Figure size 960x750 with 2 Axes>"
      ]
     },
     "metadata": {
      "needs_background": "light"
     },
     "output_type": "display_data"
    }
   ],
   "source": [
    "#Compare latitude and drag\n",
    "latitudes = np.linspace(-5, -30, 10)\n",
    "drags = np.logspace(-2,-1,10) #np.linspace(0.01,0.1,10) \n",
    "\n",
    "D = { (int(l), f\"{c:0.3f}\"):vconvj(Fr, Fv,lat = l, Cd = c) for l in latitudes for c in drags}\n",
    "df = pd.Series(D).unstack().transpose()\n",
    "\n",
    "for f in df.columns:\n",
    "    df.rename(columns = {f: f\"${abs(int(f))}^{{\\circ}} S$\"} , inplace=  True)\n",
    "df\n",
    "\n",
    "p = sns.heatmap(df.transpose()[::-1])"
   ]
  },
  {
   "cell_type": "code",
   "execution_count": 109,
   "metadata": {},
   "outputs": [],
   "source": [
    "#compare outflow and drag\n",
    "speeds = np.linspace(0.01,0.5,10)\n",
    "drags = np.logspace(-2,-1,10)\n",
    "\n",
    "D = { (f\"{d:0.2f}\", f\"{s:0.2f}\"):vconvj(Fr, Fv, v0 = s, Cd = d) for s in speeds for d in drags}\n",
    "df = pd.Series(D).unstack().transpose()\n",
    "\n",
    "#p = sns.heatmap(df) #.transpose()[::-1])"
   ]
  },
  {
   "cell_type": "code",
   "execution_count": null,
   "metadata": {},
   "outputs": [],
   "source": [
    "slopes = np.linspace(0,0.1,10)"
   ]
  },
  {
   "cell_type": "code",
   "execution_count": 79,
   "metadata": {},
   "outputs": [],
   "source": [
    "import numpy as np\n",
    "import seaborn as sns\n",
    "\n",
    "def ratio(s = 4e3, H0 = 20 , Cd = 0.1, slope = 0.1, W = 6e3, tau = 4):\n",
    "    H = H0 + slope*s\n",
    "    return (H0/H)*np.exp(-W*tau*Cd/H)\n",
    "\n",
    "def speed(V0 = 0.125, H0 = 20, 𝜆 = 0.1):\n",
    "    return V0*H0/(H0 + 𝜆*s)\n",
    "\n",
    "def C2d(h, z0 = 0.01, kappa = .41, Pi = 0.2):\n",
    "    \"\"\"Lentz 2017 JGR eqn (4)\"\"\"\n",
    "    return kappa**2 / (np.log(h/z0) + (Pi - 1) )**2"
   ]
  },
  {
   "cell_type": "markdown",
   "metadata": {},
   "source": [
    "An examination of the the theoretical $V_c/V_J$ ratio across a range of excursion distances suggest that the strength of jet-crossflow interaction\n",
    "possesses local optimum. Intuitively, if the coastal current aligns to isobaths in very shallow water, bottom friction will also be powerful though the speed of the flow may be fast. Alignment in deep water, faces the opposite problem; bottom friction is weak, but so is the flow. Therefore there may exist a \"sweet spot\" for which jet+crossflow interaction is maximal. \n",
    "\n",
    "**normalize fancy s by inertial radius (which side of Ro = 1 does local minima lie on?)**"
   ]
  },
  {
   "cell_type": "code",
   "execution_count": 89,
   "metadata": {},
   "outputs": [
    {
     "data": {
      "text/plain": [
       "<AxesSubplot:xlabel='Radial distance (km)', ylabel='$\\\\frac{V_c}{V_J}$'>"
      ]
     },
     "execution_count": 89,
     "metadata": {},
     "output_type": "execute_result"
    },
    {
     "data": {
      "image/png": "[encoded data removed]",
      "text/plain": [
       "<Figure size 432x288 with 1 Axes>"
      ]
     },
     "metadata": {
      "needs_background": "light"
     },
     "output_type": "display_data"
    }
   ],
   "source": [
    "s = np.linspace(0,10e3, 1000)\n",
    "vconvj = ratio(s, Cd = 2.5e-3, slope = 0.1)\n",
    "\n",
    "ax = sns.lineplot(x = s/1e3, y = vconvj, color = \"k\")\n",
    "ax.set_xlabel(\"Radial distance (km)\", fontsize = 18)\n",
    "ax.set_ylabel(r\"$\\frac{V_c}{V_J}$\", fontsize = 18)\n",
    "sns.despine()\n",
    "ax"
   ]
  },
  {
   "cell_type": "code",
   "execution_count": 56,
   "metadata": {},
   "outputs": [
    {
     "data": {
      "text/plain": [
       "<AxesSubplot:>"
      ]
     },
     "execution_count": 56,
     "metadata": {},
     "output_type": "execute_result"
    },
    {
     "data": {
      "image/png": "[encoded data removed]",
      "text/plain": [
       "<Figure size 432x288 with 1 Axes>"
      ]
     },
     "metadata": {
      "needs_background": "light"
     },
     "output_type": "display_data"
    }
   ],
   "source": [
    "#Examine friction from log law vs. quadratic\n",
    "\n",
    "H = 20 + 0.1*s\n",
    "V = speed()\n",
    "Cd = 0.01\n",
    "Cd_z0 = C2d(H, z0 = 0.01)\n",
    "Cd_2d = Cd/H\n",
    "\n",
    "drag_z0 = Cd_z0*(V/5)**2\n",
    "drag_2d = Cd_2d*V**2\n",
    "\n",
    "sns.lineplot(x = s, y = drag_z0/drag_2d, color = \"blue\")\n",
    "# sns.lineplot(x = s, y = drag_z0, color = \"blue\")\n",
    "# sns.lineplot(x = s, y = drag_2d, color = \"red\")\n",
    "#sns.lineplot(x = s, y = H, color = \"k\")"
   ]
  }
 ],
 "metadata": {
  "kernelspec": {
   "display_name": "Python 3",
   "language": "python",
   "name": "python3"
  },
  "language_info": {
   "codemirror_mode": {
    "name": "ipython",
    "version": 3
   },
   "file_extension": ".py",
   "mimetype": "text/x-python",
   "name": "python",
   "nbconvert_exporter": "python",
   "pygments_lexer": "ipython3",
   "version": "3.9.4"
  }
 },
 "nbformat": 4,
 "nbformat_minor": 4
}
