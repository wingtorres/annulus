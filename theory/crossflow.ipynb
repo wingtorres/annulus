{
 "cells": [
  {
   "cell_type": "markdown",
   "metadata": {},
   "source": [
    "# Deflected jet in a crossflow\n"
   ]
  },
  {
   "cell_type": "markdown",
   "metadata": {},
   "source": [
    "## Theory\n",
    "\n",
    "Starting with the momentum equations with the nonlinear term written as the sum of Lamb vector and velocity head gradient.\n",
    "\n",
    "$$ \\frac{\\partial \\vec{u} }{\\partial t} +  \\frac{1}{2} \\nabla(\\vec{u} \\cdot \\vec{u}) - \\vec{u} \\times \\omega + f(\\hat{k} \\times \\vec{u}) + \\frac{ C_d V}{H}\\vec{u} + \\textbf{g} \\nabla \\eta = 0  $$"
   ]
  },
  {
   "cell_type": "markdown",
   "metadata": {},
   "source": [
    "The velocity can be decomposed into components due to the jet outflow and crossflow components, subscripts $J$ and $c$ respectively\n",
    "\n",
    "$$ \\vec{u} = \\vec{u_J} + \\vec{u_c} $$\n",
    "\n",
    "$$ \\vec{u} = \\frac{\\hat{s}}{V} $$\n",
    "consequently the speed of the resultant flow can be defined using the law of cosines as \n",
    "\n",
    "$$ V = \\sqrt{V_J^2 + V_c^2 + 2V_cV_J\\cos{\\gamma}} $$\n",
    "\n",
    "where $V_J$ and $V_c$ are the jet outflow and crossflow speeds and $\\gamma$ is the angle between the two components. $\\alpha$ is the orientation of the flow relative to the Cartesian x-axis\n",
    "\n"
   ]
  },
  {
   "cell_type": "markdown",
   "metadata": {},
   "source": [
    "The momentum equation now restated assuming steady flow, substituting in the velocity decomposition\n",
    "\n",
    "$$ \\frac{1}{2} \\nabla u_J^2 + \\nabla(u_J\\cdot u_c) + \\frac{1}{2} \\nabla u_c^2 + \\tilde{\\omega} \\times u_J + \\tilde{\\omega} \\times u_C + f(\\hat{k} \\times (u_J + u_c)) + \\frac{ C_d V}{H}(u_J + u_c) + \\textbf{g} \\nabla \\eta = 0  $$\n",
    "\n",
    "**note**: here we linearize the Lamb vector in $(s,n)$ coordinates so that only the vorticity of the jet is accounted for rather than that of the resultant crossflow+jet circulation. This is reasonable if the crossflow is weakly sheared ($\\frac{du_c}{dn} \\approx 0$) and possesses weak curvature relative to the jet ($k_JV_J >> \\frac{v_c}{R_c}$), so \n",
    "\n",
    "$$\\tilde{\\omega} = -\\frac{\\partial u_J}{\\partial n} + u_JK_J$$"
   ]
  },
  {
   "cell_type": "markdown",
   "metadata": {},
   "source": [
    "The relative contribution of shear vs curvature vorticity can be estimated by non-dimensionalizing the RHS of the $(s,n)$ vorticity equation.\n",
    "\n",
    "$$\\omega_0\\omega^* = \\frac{V}{W}\\frac{u^*}{n^*} + VK{u^*}{k^*} $$\n",
    "\n",
    "$$ \\omega^* = \\frac{1}{\\omega_0}\\big[\\frac{u^*}{n^*} + \\frac{1}{\\Upsilon}{u^*}{k^*} \\big] $$\n",
    "\n",
    "admitting $\\Upsilon = \\frac{1}{KW}$, the radius-of-curvature to width ratio. For large $\\Upsilon$, i.e. the radius of curvature is much larger than the spanwise scale of the flow, the shear vorticity terms dominates. For the case of the coastal current which has the curvature of the isobath it follows, $W = R_c$, and $1/K = R = (R_c + R_i)$. In this problem typically $R_i > R_c$, so $\\Upsilon"
   ]
  },
  {
   "cell_type": "markdown",
   "metadata": {},
   "source": [
    "\n",
    "After applying the definition of the gradient in $(s,n)$ coordinates $\\nabla = \\hat{s} \\frac{\\partial }{\\partial s} + \\hat{n} \\frac{\\partial }{\\partial n}$ we expand the above into components oriented to the jet velocity vector $\\hat{s} = \\hat{s}_J$\n",
    "\n",
    "$$ u_J \\frac{\\partial u_J}{\\partial s} \\hat{s} \n",
    "+ \\frac{\\partial}{\\partial s}(u_J\\cdot u_C) \\hat{s}\n",
    "+ u_c \\frac{\\partial u_c}{\\partial s} \\hat{s}\n",
    "+ u_J \\frac{\\partial u_J}{\\partial n} \\hat{n} \n",
    "+ \\frac{\\partial}{\\partial n}(u_J\\cdot u_C) \\hat{n}\n",
    "+ u_c \\frac{\\partial u_c}{\\partial n} \\hat{n} \n",
    "+ u_J\\big[-\\frac{\\partial u_J}{\\partial n} + V_JK_J\\big] \\hat{n} \\\\ \n",
    "+ fu_J\\hat{n} + fu_c\\hat{s} + fu_c\\hat{n} + \\\\\n",
    "C_D \\frac{V}{H}u_J\\hat{s} + C_D\\frac{V}{H}u_c\\hat{n} + C_D\\frac{V}{H}u_c\\hat{s} \\\\\n",
    "+ g \\frac{\\partial \\eta}{\\partial s} \\hat{s}\n",
    "+ g \\frac{\\partial \\eta}{\\partial n} \\hat{n} = 0\n",
    "$$"
   ]
  },
  {
   "cell_type": "markdown",
   "metadata": {},
   "source": [
    "After partitioning into components and simplifying\n",
    "\n",
    "$$ \n",
    "u_J \\frac{\\partial u_J}{\\partial s} +  \n",
    "\\frac{\\partial}{\\partial s}(u_J\\cdot u_C)  + \n",
    "u_c \\frac{\\partial u_c}{\\partial s} + \n",
    "\\frac{C_D V}{H}\\bigg(u_J + \\frac{u_c\\cdot u_J}{|u_J|}\\bigg) + \n",
    "f \\bigg(u_c - \\frac{u_c\\cdot u_J}{|u_J|}\\bigg) + \n",
    "g \\frac{\\partial \\eta}{\\partial s}  = 0 \n",
    "$$\n",
    "\n",
    "$$ \n",
    " \\frac{\\partial}{\\partial n}(u_J\\cdot u_C)  + \n",
    "\\bigg(u_c - \\frac{u_c\\cdot u_J}{|u_J|}\\bigg)\\frac{\\partial u_c}{\\partial n} +\n",
    "V_J^2 K_J +\n",
    "\\frac{C_D V}{H}\\bigg(u_c - \\frac{u_c\\cdot u_J}{|u_J|}\\bigg) + \n",
    "f\\bigg(u_J + \\frac{u_c\\cdot u_J}{|u_J|}\\bigg) +\n",
    "g \\frac{\\partial \\eta}{\\partial n}  = 0\n",
    "$$"
   ]
  },
  {
   "cell_type": "markdown",
   "metadata": {},
   "source": [
    "Nondimensionalizing, noting that dot products will also involve $\\cos{\\psi}$ where $\\psi$ is the angle between the jet and crossflow. Note: we use the definition of divergence to non-dimensionalize terms involving $\\frac{\\partial u}{\\partial s}$\n",
    "\n",
    "$$ \n",
    "\\frac{V_J^2\\lambda}{H} u_J^* \\frac{\\partial u_J^*}{\\partial s^*} +  \n",
    "\\frac{V_c V_J \\cos{\\psi} }{R_c} \\frac{\\partial}{\\partial s}(u_J^*\\cdot u_C^*)  + \n",
    "\\frac{V_c^2\\lambda}{H} u_c^* \\frac{\\partial u_c^*}{\\partial s^*} + \n",
    "\\frac{C_D V}{H H^*}\\bigg(V_J u_J^* + V_c\\cos{\\psi}\\frac{u_c^*\\cdot u_J^*}{|u_J^*|}\\bigg) + \n",
    "f \\bigg(V_c u_c^* - V_c\\cos{\\psi}\\frac{u_c^*\\cdot u_J^*}{|u_J|}\\bigg) + \n",
    "Eu \\frac{\\partial \\eta^*}{\\partial s^*}  = 0 \n",
    "$$\n",
    "\n",
    "$$ \n",
    "V_JV_c\\cos{\\psi}\\frac{\\partial}{\\partial n}(u_J^* \\cdot u_C^*) + \n",
    "\\bigg(V_c u_c^* - V_c\\cos{\\psi}\\frac{u_c^*\\cdot u_J^*}{|u_J^*|}\\bigg)\\frac{V_c}{W_J}\\frac{\\partial u_c^*}{\\partial n^*} +\n",
    "V_J^2 K_J +\n",
    "\\frac{C_D V}{H H^*}\\bigg(V_c u_c^* - V_c\\cos{\\psi}\\frac{u_c^*\\cdot u_J^*}{|u_J^*|}\\bigg) + \n",
    "f\\bigg(V_J u_J^* + V_c\\cos{\\psi}\\frac{u_c^*\\cdot u_J^*}{|u_J^*|}\\bigg) +\n",
    "Eu\\frac{\\partial \\eta^*}{\\partial n^*}  = 0\n",
    "$$\n",
    "\n",
    "\n",
    "<!-- We now make the argument that the along stream variation of the imposed uniform crossflow is negligible $\\frac{\\partial u_c}{\\partial s} \\sim 0$, while we retain the additional stress-type terms arising from the velocity decomposition, arriving at the final result. \n",
    "\n",
    "$$\n",
    "V_J\\frac{\\partial V_J}{\\partial s} + \n",
    "\\frac{\\partial}{\\partial s}(V_JV_c\\cos{\\psi}) +\n",
    "V_c\\cos{\\psi}\\frac{\\partial u_c}{\\partial s} + \n",
    "C_D\\frac{V}{H}(V_J + V_c\\cos{\\psi}) +\n",
    "f(V_c - V_c\\cos{\\psi}) + \n",
    "g \\frac{\\partial \\eta}{\\partial s}  = 0 \n",
    "$$\n",
    "\n",
    "$$ \n",
    "\\frac{\\partial}{\\partial n}(V_JV_c\\cos{\\psi})  + \n",
    "(V_c - V_c\\cos{\\psi})\\frac{\\partial u_c}{\\partial n} + \n",
    "C_D\\frac{V}{H}(V_c - V_c\\cos{\\psi}) +\n",
    "V_J^2 K_J +\n",
    "f(V_J + V_c\\cos{\\psi})+ \n",
    "g \\frac{\\partial \\eta}{\\partial n}  = 0\n",
    "$$ -->"
   ]
  },
  {
   "cell_type": "markdown",
   "metadata": {},
   "source": [
    "Scale analysis of the terms in the normal momentum balance should prove useful for diagnosing the principality of rotation or crossflow-jet interactions in deflecting the feature. The equations in non-dimensional terms are shown below for the case where $\\psi = \\pi/2$, i.e. the crossflow is orthogonal to the jet, using the jet width for the $n^* = \\frac{n}{W}$ scale, a characteristic radius of curvature $K* = RK$ to non-dimensionalize the curvature, and the jet excursion/coastal current width $s^* = \\frac{s}{R_c}$ to non-dimensionalize the radial jet outflow coordinate.\n",
    "\n",
    "$$ \n",
    "\\frac{V_J^2\\lambda}{H} u_J^* \\frac{\\partial u_J^*}{\\partial s^*} +  \n",
    "\\frac{V_c^2\\lambda}{H} u_c^* \\frac{\\partial u_c^*}{\\partial s^*} + \n",
    "\\frac{C_D V V_J}{H}\\frac{u_J^*}{H^*} + \n",
    "f V_c u_c^* + \n",
    "Eu \\frac{\\partial \\eta^*}{\\partial s^*}  = 0 \n",
    "$$\n",
    "\n",
    "$$ \n",
    "\\frac{V_J V_c}{W_J}\\frac{\\partial}{\\partial n}(u_J^* \\cdot u_C^*) + \n",
    "\\frac{V_c^2}{W_J}u_c^* \\frac{\\partial u_c^*}{\\partial n^*} +\n",
    "V_J^2 K_J u_J^{*2} K^* +\n",
    "\\frac{C_D V V_c}{H} \\frac{u_c^*}{H^*} + \n",
    "f V_J u_J^* +\n",
    "Eu\\frac{\\partial \\eta^*}{\\partial n^*} = 0\n",
    "$$\n",
    "\n",
    "<!-- $$\\frac{V_J^2}{H}(\\lambda + C_D) + fV_c + Eu\\frac{\\partial \\eta^*}{\\partial s^*} = 0 $$\n",
    "\n",
    "$$\\frac{V_c^2}{W_J} + C_D\\frac{VV_c}{H} + V_J^2K_J + fV_J + Eu\\frac{\\partial \\eta^*}{\\partial n^*}= 0 $$\n",
    "\n",
    "- need intermediate step of (*) variables. non-dimensionalize existing scales? -->\n",
    "\n",
    "<!-- $$ \\frac{R}{W_J}\\frac{V_c}{V_J} \\frac{\\partial}{\\partial n^*}(u_J^*\\cdot u_c^*) + \n",
    "\\frac{R}{W_J}\\frac{V_c^2}{V_J^2} u_c^* \\frac{\\partial u_c^*}{\\partial n^*}+ \n",
    "K^* + \n",
    "\\frac{R fV}{V_J^2} + \\text{Eu} \\frac{\\partial \\eta^*}{\\partial n^*} = 0 $$  -->\n",
    "\n",
    "<!-- $$ \\frac{R}{W_J}\\frac{V_c}{V_J} \\frac{\\partial}{\\partial n^*}(u_J^*\\cdot u_c^*) + \n",
    "\\frac{R}{W_J}\\frac{V_c^2}{V_J^2} u_c^* \\frac{\\partial u_c^*}{\\partial n^*}+ \n",
    "K^* + \n",
    "\\frac{R fV}{V_J^2} + \\text{Eu} \\frac{\\partial \\eta^*}{\\partial n^*} = 0 $$ -->\n"
   ]
  },
  {
   "cell_type": "markdown",
   "metadata": {},
   "source": [
    "Dividing the streamwise component by $V_J^2/R_c$, the normal component by $V_J^2/W_J$, and assuming $V \\sim V_J$ produces the following non-dimensional numbers: \n",
    "- $\\Upsilon = K_J W_J$ radius of curvature-to-width ratio (as in river meander literature)\n",
    "- $\\varrho = \\frac{V_c}{V_J}$ the ratio of crossflow to jet outflow velocity, and\n",
    "- $Ro_J = \\frac{V_J}{fW_J}$ the jet inflow Rossby number\n",
    "- $Ro_c = \\frac{V_c}{fR_c}$ the coastal current Rossby number\n",
    "- $Re_{f:J} = \\frac{H}{C_D W_J} \\approx \\frac{\\lambda}{C_D}\\frac{R_c}{W_J}$ the jet nearfield equivalent Reynold's number\n",
    "- $\\frac{R_c}{H} \\approx \\frac{1}{\\lambda}$  the radial aspect ratio of the flow is roughly the inverse of the slope\n",
    "- $Eu_s = \\max{(V_J^2/R_c, Ro_c)}$ the Euler number as in Haney et al. 2015 JPO\n",
    "- $Eu_n = \\max{(V_J^2/W_J, Ro_J)}$ the Euler number as in Haney et al. 2015 JPO\n",
    "\n",
    "which appear in the non-dimensonal equations as follows"
   ]
  },
  {
   "cell_type": "markdown",
   "metadata": {},
   "source": [
    "$$  \n",
    "u_J^* \\frac{\\partial u_J^*}{\\partial s^*}\n",
    "+ \\varrho^2  u_c^*\\frac{\\partial u_c^*}{\\partial s^*}\n",
    "+ \\frac{C_D}{\\lambda}\\frac{u_J^*}{H^*}\n",
    "+ \\frac{\\varrho}{Ro_c} u_c^*\n",
    "+ Eu_s\\frac{\\partial \\eta^*}{\\partial s^*} = 0 $$\n",
    "\n",
    "$$\n",
    "\\varrho \\frac{\\partial}{\\partial n}(u_J^* \\cdot u_C^*) + \n",
    "\\varrho^2 u_c^* \\frac{\\partial u_c^*}{\\partial n^*} +\n",
    "\\Upsilon u_J^{*2} K^* +\n",
    "\\frac{1}{Re_{f:J}} \\frac{u_c^*}{H^*} + \n",
    "\\frac{1}{Ro_J} u_J^* +\n",
    "Eu_n\\frac{\\partial \\eta^*}{\\partial n^*} = 0\n",
    "$$"
   ]
  },
  {
   "cell_type": "markdown",
   "metadata": {},
   "source": [
    "<!-- If we allow the radius of curvature to be determined by the inertial radius $R = V_J/f$, and realize that for consecutive flows V_c ~ V_j, the equation simplifies to\n",
    "\n",
    "$$ \n",
    "\\frac{V_J}{fW_J} \\frac{\\partial}{\\partial n^*}(u_J^*\\cdot u_c^*) + \n",
    "\\frac{V_J}{fW_J} u_c^* \\frac{\\partial u_c^*}{\\partial n^*}+ \n",
    "K^* + \n",
    "\\frac{V}{V_J} + \\text{Eu} \\frac{\\partial \\eta^*}{\\partial n^*} = 0 $$\n",
    "\n",
    "admitting a jet outflow Rossby number $\\text{Ro} = \\frac{V_J}{fW_J}$ while the strength of the non-dimensional Coriolis term is bounded by $\\sqrt{2} < V/V_J< 2$ -->\n",
    "\n",
    "### Evaluate quantities in model\n",
    "- *calculate gradients between bounding streamlines within jet? uc = outer uj = centerline?\n",
    "- *subtract coastal current profile from flow field to look at jet+interaction field?"
   ]
  }
 ],
 "metadata": {
  "kernelspec": {
   "display_name": "Python 3",
   "language": "python",
   "name": "python3"
  },
  "language_info": {
   "codemirror_mode": {
    "name": "ipython",
    "version": 3
   },
   "file_extension": ".py",
   "mimetype": "text/x-python",
   "name": "python",
   "nbconvert_exporter": "python",
   "pygments_lexer": "ipython3",
   "version": "3.9.5"
  }
 },
 "nbformat": 4,
 "nbformat_minor": 4
}
