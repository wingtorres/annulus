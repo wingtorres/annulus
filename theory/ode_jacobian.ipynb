{
 "cells": [
  {
   "cell_type": "code",
   "execution_count": 2,
   "id": "hazardous-finger",
   "metadata": {},
   "outputs": [],
   "source": [
    "import numpy as np"
   ]
  },
  {
   "cell_type": "code",
   "execution_count": 52,
   "id": "particular-furniture",
   "metadata": {},
   "outputs": [],
   "source": [
    "#create jacobian\n",
    "#https://math.stackexchange.com/questions/1737191/how-to-know-whether-an-ordinary-differential-equation-is-chaotic\n",
    "\n",
    "r = 12e3\n",
    "l = 0.1 #slope\n",
    "h0 = 20\n",
    "f = 2*7.29e-5*np.sin(-np.pi/6)\n",
    "cd = .125\n",
    "u0 = 0.125\n",
    "k0 = -f/u0\n",
    "\n",
    "dfkdh = -l/h0**2 * (2*k0 + f*u0) + cd*k0/h0**2\n",
    "\n",
    "fa = np.array([0, 0, 0, 0, 0, 1])\n",
    "fr = np.array([0, 0, 0, 0, 0, 0])\n",
    "ft = np.array([1/r, 0, -1/r, 0, 0, 0])\n",
    "fh = np.array([0, 0, 0, 0, 0, 0])\n",
    "fu = np.array([0, 0, 0, u0*l/h0**2, -l/h0, 0])\n",
    "fk = np.array([-cd/h0**2, 0, cd/h0**2, dfkdh, f*l/h0, (2*l-cd)/h0])\n",
    "\n",
    "A = np.vstack([fa,fr,ft,fh,fu,fk])"
   ]
  },
  {
   "cell_type": "code",
   "execution_count": 53,
   "id": "excellent-pharmaceutical",
   "metadata": {},
   "outputs": [
    {
     "data": {
      "text/plain": [
       "array([ 1.83333333e-03+0.01757346j,  1.83333333e-03-0.01757346j,\n",
       "       -1.60580548e-20+0.j        ,  0.00000000e+00+0.j        ,\n",
       "       -5.00000000e-03+0.j        ,  0.00000000e+00+0.j        ])"
      ]
     },
     "execution_count": 53,
     "metadata": {},
     "output_type": "execute_result"
    }
   ],
   "source": [
    "evs = np.linalg.eigvals(A)\n",
    "evs\n",
    "#http://pruffle.mit.edu/3.016-2005/Lecture_25_web/node2.html"
   ]
  },
  {
   "cell_type": "markdown",
   "id": "uniform-packet",
   "metadata": {},
   "source": [
    "For characteristic parameter values, the largest eigenvalues of the Jacobian of the ODE system are complex conjugates with the real parts positive, implying an unstable spiraling behavior in phase space. This quality, in addition to recognizing that dimension of phase space is (n = 4), suggests the system exhibits chaotic properties and is sensitive to initial conditions. And so, we justify the permission of a bit of scope to the initial conditions ($y_0$) of the ODE solution, anticipating that perfectly acceptable and useful solutions may exist alongside wildly divergent ones. Thus, the initial conditions used by the ODE model $\\hat{y}_0$ were optimized for, bounded within 5% of the initial values provided by the ROMS output, the final result of which minimizes the least squared error between the trajectory computed in the ROMS output and the ODE solution."
   ]
  },
  {
   "cell_type": "code",
   "execution_count": null,
   "id": "interpreted-extraction",
   "metadata": {},
   "outputs": [],
   "source": []
  }
 ],
 "metadata": {
  "kernelspec": {
   "display_name": "Python 3",
   "language": "python",
   "name": "python3"
  },
  "language_info": {
   "codemirror_mode": {
    "name": "ipython",
    "version": 3
   },
   "file_extension": ".py",
   "mimetype": "text/x-python",
   "name": "python",
   "nbconvert_exporter": "python",
   "pygments_lexer": "ipython3",
   "version": "3.7.8"
  }
 },
 "nbformat": 4,
 "nbformat_minor": 5
}
