{
 "cells": [
  {
   "cell_type": "code",
   "execution_count": 1,
   "metadata": {},
   "outputs": [],
   "source": [
    "import os\n",
    "import subprocess\n",
    "import numpy as np\n",
    "from scipy.stats import skewnorm\n",
    "import scipy.io as sio\n",
    "import matlab.engine\n",
    "\n",
    "import matplotlib as mpl\n",
    "import matplotlib.pyplot as plt\n",
    "from matplotlib.colors import LogNorm\n",
    "import cmocean\n",
    "\n",
    "from pycoawst.tools.grid import s2z, cart2polar, rx0, rx1\n",
    "from pycoawst.utility.general import coriolis\n",
    "\n",
    "mpl.rcParams['figure.dpi'] = 300"
   ]
  },
  {
   "cell_type": "code",
   "execution_count": 915,
   "metadata": {},
   "outputs": [],
   "source": [
    "class reef_grid():\n",
    "\n",
    "    def __init__(self, Lm = 256, Mn = 128, coords = \"polar\", channels = 1, width_reef = np.pi/6, width_jet = 500, radius_island = 10e3, extent_offshore = 10e3,\n",
    "                 extent_lagoon = 1e3, extent_reef = 2e3, extent_reefcrest = 100, depth_channel = 20, depth_reef = 2):\n",
    "        \n",
    "        self.Lm = Lm\n",
    "        self.Mn = Mn\n",
    "        self.coords = coords\n",
    "        self.nc = channels\n",
    "        self.Ri = radius_island\n",
    "        \n",
    "        self.Ll = extent_lagoon\n",
    "        self.Lr = extent_reef\n",
    "        self.Lrc = extent_reefcrest\n",
    "        \n",
    "        self.Ro = radius_island + extent_offshore\n",
    "        self.Rl = radius_island + extent_lagoon\n",
    "        self.Rr = radius_island + extent_reef\n",
    "        \n",
    "        \n",
    "        self.hj = depth_channel\n",
    "        self.hr = depth_reef\n",
    "        \n",
    "        self.Wj = width_jet\n",
    "        self.Wr = width_reef\n",
    "        \n",
    "        if coords == \"polar\":\n",
    "            self.projection = \"stereographic\"\n",
    "            self.spherical = \"T\"\n",
    "            self.r = np.linspace(self.Ri, self.Ro, Mn)\n",
    "            self.t = np.linspace(0, self.nc*self.Wr, Lm) - self.nc*self.Wr/2\n",
    "        elif coords == \"xy\":\n",
    "            self.projection = \"mercator\"\n",
    "            self.spherical = \"F\"\n",
    "            self.x = np.linspace(-self.Wr/2, self.Wr/2, Lm)\n",
    "            self.y = np.linspace(self.Ri, self.Ro, Mn)\n",
    "        \n",
    "    def coord_stretch(self, coord, scale = 3, x0 = 8.5e3):\n",
    "        \"\"\"normalized clustering of pts around x0\"\"\"\n",
    "        #https://www3.nd.edu/~gtryggva/CFD-Course2017/Lecture-17-2017.pdf\n",
    "        \n",
    "        x = getattr(self, coord)\n",
    "        Lx = x.max() - x.min()\n",
    "        xn = (x - x.min())/Lx\n",
    "        xn0 = (x0 - x.min())/Lx\n",
    "        xc = xn + scale*(xn0 - xn)*(1 - xn)*xn\n",
    "        x_stretched = xc*Lx + x.min()\n",
    "        setattr(self, coord, x_stretched)\n",
    "        return x_stretched\n",
    "        \n",
    "    def set_coords(self):\n",
    "        if self.coords == \"polar\":\n",
    "            self.T, self.R = np.meshgrid(np.flip(self.t), self.r, indexing = \"xy\")\n",
    "            self.X, self.Y = self.R*np.cos(self.T), self.R*np.sin(self.T)\n",
    "        elif self.coords == \"xy\":\n",
    "            self.Y, self.X = np.meshgrid(self.y, self.x, indexing = \"xy\")\n",
    "    \n",
    "    def repeat(self, N):\n",
    "        #self.X = np.tile(self.X, (1,N))\n",
    "        xadd = self.X[:-1,:]\n",
    "        yadd = self.Y[:-1,:]\n",
    "        hadd = self.h[:-1,:]\n",
    "        for i in range(N-1):\n",
    "            self.X = np.concatenate((self.X, xadd + self.Wr*(i+1)))\n",
    "            self.Y = np.concatenate((self.Y, yadd))\n",
    "            self.h = np.concatenate((self.h, hadd))\n",
    "        #if self.coords == \"polar\":\n",
    "        \n",
    "    def bathy_tanh(self, x, h0, scale, offset, hmin = 0, sgn = 1):\n",
    "        return h0*(1 + sgn*np.tanh( (x - offset)/scale)) + hmin\n",
    "        \n",
    "    def tanh2(self, x, s = 2.5e-2, w = 0.5):\n",
    "        \"\"\"\"two sided tanh taper function. smaller s -> steeper roll off\"\"\"\n",
    "        return 0.5*( np.tanh(np.pi*(x + w)/s) - np.tanh(np.pi*(x - w)/s) )"
   ]
  },
  {
   "cell_type": "markdown",
   "metadata": {},
   "source": [
    "## Analytical Grid: Composite functions\n",
    "\n",
    "The $\\tanh$ and skewnorm distribution functions to be used to create the grid.\n",
    "$$h(x) = h_0\\bigg(1 \\pm \\tanh{\\frac{x - x_0}{s}}\\bigg) + h_{min} $$\n",
    "$$h(x) = A_0\\frac{1}{2\\sqrt{2\\pi}}e^{-\\frac{x^2}{2}} \\bigg[1 + \\textrm{erf}{\\bigg(\\frac{x}{\\sqrt{2}}\\bigg)} \\bigg] $$"
   ]
  },
  {
   "cell_type": "markdown",
   "metadata": {},
   "source": [
    "By tapering between various bathymetric subfunctions we can analytically construct the idealized domain. First define the forereef, reef crest, and lagoon bathymetry \n",
    "$$ h_f = 200(1 + \\tanh{\\frac{\\pi(y - L_r)}{80}}) $$\n",
    "$$ h_r = 1105\\frac{1}{2\\sqrt{2\\pi}}e^{-\\frac{y^2}{2}} \\bigg[1 + \\textrm{erf}{\\bigg(\\frac{y}{\\sqrt{2}}\\bigg)} \\bigg] $$\n",
    "$$ h_l = 10(1 - \\tanh{\\frac{\\pi y}{50}}) $$\n",
    " \n",
    "By composing these using a taper function of the same form as the $\\tanh$ profile as above in the offshore direction, \n",
    "and a two-sided tanh taper function in the cross-shore direction (to transition from the reef flat to channel bathymetry smoothly)\n",
    "\n",
    "$$ t_y = \\frac{1}{2}\\bigg(1 + \\tanh{\\frac{\\pi(y - L_r)}{100}}\\bigg) $$\n",
    "\n",
    "$$ t_x = \\frac{1}{2}\\bigg[ \\tanh{\\frac{\\pi(x + W_J)}{1250}} - \\tanh{\\frac{\\pi(x - W_J)}{1250}} \\bigg] $$\n",
    "\n",
    "as follows\n",
    "$$h_{lr} = h_lt_x + (h_l - h_r)(1 - t_x)$$\n",
    "$$h(x,y) = h_lr(1 - t_y) + h_ft_y $$"
   ]
  },
  {
   "cell_type": "code",
   "execution_count": 917,
   "metadata": {},
   "outputs": [],
   "source": [
    "#Cartesian\n",
    "\n",
    "G = reef_grid(coords = \"xy\", Lm = 98, Mn = 66, extent_offshore = 6e3, radius_island = 0, width_jet = 100, width_reef = 2e3)\n",
    "G.coord_stretch(\"x\", x0 = 0, scale = 2)\n",
    "G.coord_stretch(\"y\", x0 = 1.8e3, scale = 3.3)\n",
    "G.set_coords()\n",
    "\n",
    "G.hr = 1.5*8.5e2*skewnorm.pdf(G.Y, a = -2, loc = G.Rr, scale = 80) #crest slope bathymetry\n",
    "G.hf = G.bathy_tanh(G.Y, h0 = 200, scale = 1e3, offset = G.Rr + 1.75e3, hmin = G.hj, sgn = 1) #forereef bathymetry\n",
    "G.hl = G.bathy_tanh(G.Y, h0 = G.hj/2, scale = 50, offset = G.Rl, hmin = 2, sgn = -1) #lagoon bathymetry\n",
    "G.taper_xi = G.tanh2(G.X, s = 1.25e2, w = G.Wj) #azimuthal taper\n",
    "G.taper_eta = G.bathy_tanh(G.Y, h0 = 0.5, scale = G.Lrc, offset = G.Rr, hmin = 0) #radial taper function\n",
    "\n",
    "G.hlc = G.hj*G.taper_xi + (G.hl - G.hr)*(1 - G.taper_xi)\n",
    "G.h = G.hlc*(1 - G.taper_eta) + G.hf*G.taper_eta\n",
    "G.h[G.h<.5] = .5\n",
    "\n",
    "#G.repeat(4)"
   ]
  },
  {
   "cell_type": "code",
   "execution_count": 916,
   "metadata": {},
   "outputs": [],
   "source": [
    "#Polar\n",
    "G = reef_grid()\n",
    "G.coord_stretch(\"r\")\n",
    "G.set_coords()\n",
    "#G.taper()\n",
    "\n",
    "G.hr = 11.05e2*skewnorm.pdf(G.R, a = -2, loc = G.Rr, scale = 100) #reef flat bathymetry\n",
    "G.hf = G.bathy_tanh(G.R, h0 = 500, scale = 1.5e3, offset = G.Rr+1e3, hmin = G.hj*.8, sgn = 1) #forereef bathymetry\n",
    "G.hl = G.bathy_tanh(G.R, h0 = G.hj/2, scale = 50, offset = G.Rl, hmin = 0, sgn = -1) #lagoon bathymetry\n",
    "G.taper_eta = G.bathy_tanh(G.R, h0 = 0.5, scale = G.Lrc, offset = G.Rr, hmin = 0) #radial taper function\n",
    "G.taper_xi = G.tanh2(G.T, w = 0.5*G.Wj/(G.Rr*G.nc*G.Wr))\n",
    "\n",
    "G.hlc = G.hj*G.taper_xi + (G.hl - G.hr)*(1 - G.taper_xi)\n",
    "G.h = G.hlc*(1 - G.taper_eta) + G.hf*G.taper_eta\n",
    "G.h[G.h<.5] = .5"
   ]
  },
  {
   "cell_type": "code",
   "execution_count": 918,
   "metadata": {},
   "outputs": [
    {
     "name": "stdout",
     "output_type": "stream",
     "text": [
      "Maximum rx1-value = 10.474364278856525\n",
      "Maximum rx0-value = 0.6299838259628456\n"
     ]
    },
    {
     "data": {
      "text/plain": [
       "'min depth = 0.5'"
      ]
     },
     "metadata": {},
     "output_type": "display_data"
    },
    {
     "data": {
      "text/plain": [
       "'max depth = 415.60522294776274'"
      ]
     },
     "metadata": {},
     "output_type": "display_data"
    }
   ],
   "source": [
    "#Compute 3D grid and stiffness metrics\n",
    "\n",
    "z = s2z(G.h, ns = 10, thetaS = 3.0, thetaB = 2.0, hc  = G.hj) #thermocline deep as channel\n",
    "stiffness = rx1(z)\n",
    "beckhaid = rx0(G.h)\n",
    "display(f\"min depth = {G.h.min()}\")\n",
    "display(f\"max depth = {G.h.max()}\")"
   ]
  },
  {
   "cell_type": "code",
   "execution_count": 1047,
   "metadata": {},
   "outputs": [
    {
     "data": {
      "image/png": "[encoded data removed]",
      "text/plain": [
       "<Figure size 720x360 with 3 Axes>"
      ]
     },
     "metadata": {},
     "output_type": "display_data"
    }
   ],
   "source": [
    "import matplotlib.gridspec \n",
    "\n",
    "i = 25\n",
    "j = 10\n",
    "sns.set_style(\"white\")\n",
    "\n",
    "fig = plt.figure(figsize=(10, 5))\n",
    "gs = gridspec.GridSpec(nrows=2, ncols=2, width_ratios = [2,.425])\n",
    "\n",
    "fig.add_subplot(gs[0,0])\n",
    "plt.plot(G.Y[j,:], z[j,:], color = \"k\", linewidth = 0.25)\n",
    "plt.plot(G.Y[j,:], -G.h[j,:], color = \"k\", linewidth = 1)\n",
    "\n",
    "fig.add_subplot(gs[1,0])\n",
    "plt.plot(G.X[:,i], z[:,i], color = \"k\", linewidth = 0.25)\n",
    "plt.plot(G.X[:,i], -G.h[:,i], color = \"k\", linewidth = 1)\n",
    "\n",
    "fig.add_subplot(gs[:,1])\n",
    "plt.pcolormesh(G.X, G.Y, G.h, norm=colors.LogNorm(vmin = 1, vmax= 1e3), cmap = cmocean.cm.ice_r, shading = \"auto\" )\n",
    "plt.gca().axis(\"equal\")\n",
    "\n",
    "sns.despine()"
   ]
  },
  {
   "cell_type": "markdown",
   "metadata": {},
   "source": [
    "Figure ?: Cross-shore (a) and alongshore (b) cross-sections of the bathymetry. Notice the irregular spacing functions employed to better resolve reef crest and jet processes. The stretching function used is \n",
    "\n",
    "$$ x = L\\zeta + a(x_0 - L\\zeta)(1 - \\zeta)\\zeta $$\n",
    "\n",
    "where $\\zeta$ is the normalized coordinate (0-1), $L$ is the length of the domain the given direction, and $a$ is a tuning parameter determining the intensity of grid stretching/expansion about $x_0$."
   ]
  },
  {
   "cell_type": "code",
   "execution_count": 920,
   "metadata": {},
   "outputs": [],
   "source": [
    "#Generate .mat file for COAWST mfiles to convert to .nc\n",
    "grdname = \"analytic\"\n",
    "\n",
    "# lon, lat = cart2polar(X,Y)\n",
    "# rho = {\"lon\": lon, \"lat\": lat, \"depth\": h, \"mask\": h*0+1}\n",
    "\n",
    "mask =  G.h*0+1\n",
    "rho = {\"x\": G.X, \"y\": G.Y, \"depth\": G.h, \"mask\": mask} \n",
    "sio.savemat(f\"{grdname}.mat\", {\"rho\": rho, \"spherical\": G.spherical, \"projection\": G.projection})"
   ]
  },
  {
   "cell_type": "code",
   "execution_count": 907,
   "metadata": {},
   "outputs": [],
   "source": [
    "eng = matlab.engine.start_matlab()\n",
    "eng.cd(os.getcwd(),nargout=0)\n",
    "eng.mat2roms_mw(f\"{grdname}.mat\", f\"roms_grid.nc\", nargout=0)\n",
    "# eng.roms2swan( f\"roms_grid.nc\", nargout=0 )\n",
    "eng.roms2swan( matlab.double(G.X.tolist()), \n",
    "               matlab.double(G.Y.tolist()), \n",
    "               matlab.double(G.h.tolist()), \n",
    "               matlab.double(mask.tolist()),nargout =0 )\n",
    "eng.quit()"
   ]
  },
  {
   "cell_type": "code",
   "execution_count": 1048,
   "metadata": {},
   "outputs": [],
   "source": [
    "#impose -fplane if necessary...\n",
    "string = fr'''ncap2 -s \"f=f*0+{coriolis(-30)};\" -O {grdname}_grid.nc {grdname}_grid.nc'''\n",
    "sp = subprocess.run(string, shell = True, check = True)"
   ]
  }
 ],
 "metadata": {
  "kernelspec": {
   "display_name": "Python 3",
   "language": "python",
   "name": "python3"
  },
  "language_info": {
   "codemirror_mode": {
    "name": "ipython",
    "version": 3
   },
   "file_extension": ".py",
   "mimetype": "text/x-python",
   "name": "python",
   "nbconvert_exporter": "python",
   "pygments_lexer": "ipython3",
   "version": "3.7.8"
  }
 },
 "nbformat": 4,
 "nbformat_minor": 4
}
