{
 "cells": [
  {
   "cell_type": "code",
   "execution_count": 5,
   "metadata": {},
   "outputs": [
    {
     "data": {
      "text/plain": [
       "<xarray.core.options.set_options at 0x7fd78c65dca0>"
      ]
     },
     "execution_count": 5,
     "metadata": {},
     "output_type": "execute_result"
    }
   ],
   "source": [
    "import os \n",
    "import sys\n",
    "import xarray as xr\n",
    "import numpy as np\n",
    "import pandas as pd\n",
    "\n",
    "import cartopy.crs as crs\n",
    "import cmocean\n",
    "import seaborn as sns\n",
    "import hvplot.pandas\n",
    "import matplotlib.pyplot as plt\n",
    "import matplotlib.ticker as mticker\n",
    "from mpl_toolkits.axes_grid1 import make_axes_locatable\n",
    "from matplotlib.colors import LogNorm\n",
    "import colorcet as cc\n",
    "from cartopy.mpl.gridliner import LONGITUDE_FORMATTER, LATITUDE_FORMATTER\n",
    "\n",
    "from romspy.grid import cart2polar\n",
    "\n",
    "home = os.environ['HOME']\n",
    "pd.options.plotting.backend = 'holoviews'\n",
    "xr.set_options(display_style =\"html\")"
   ]
  },
  {
   "cell_type": "code",
   "execution_count": 2,
   "metadata": {},
   "outputs": [
    {
     "data": {
      "text/html": [
       "<table style=\"border: 2px solid white;\">\n",
       "<tr>\n",
       "<td style=\"vertical-align: top; border: 0px solid white\">\n",
       "<h3 style=\"text-align: left;\">Client</h3>\n",
       "<ul style=\"text-align: left; list-style: none; margin: 0; padding: 0;\">\n",
       "  <li><b>Scheduler: </b>tcp://127.0.0.1:54113</li>\n",
       "  <li><b>Dashboard: </b><a href='http://127.0.0.1:8787/status' target='_blank'>http://127.0.0.1:8787/status</a></li>\n",
       "</ul>\n",
       "</td>\n",
       "<td style=\"vertical-align: top; border: 0px solid white\">\n",
       "<h3 style=\"text-align: left;\">Cluster</h3>\n",
       "<ul style=\"text-align: left; list-style:none; margin: 0; padding: 0;\">\n",
       "  <li><b>Workers: </b>4</li>\n",
       "  <li><b>Cores: </b>8</li>\n",
       "  <li><b>Memory: </b>16.00 GiB</li>\n",
       "</ul>\n",
       "</td>\n",
       "</tr>\n",
       "</table>"
      ],
      "text/plain": [
       "<Client: 'tcp://127.0.0.1:54113' processes=4 threads=8, memory=16.00 GiB>"
      ]
     },
     "execution_count": 2,
     "metadata": {},
     "output_type": "execute_result"
    }
   ],
   "source": [
    "from dask.distributed import Client\n",
    "Client()"
   ]
  },
  {
   "cell_type": "code",
   "execution_count": 6,
   "metadata": {},
   "outputs": [],
   "source": [
    "# swname = home + \"/Dropbox/Oceanography/Projects/annulus/floats/10channelfloats/annFloats_sw10.nc\"\n",
    "# nmname = home + \"/Dropbox/Oceanography/Projects/annulus/floats/10channelfloats/annFloats_nm10.nc\"\n",
    "swname = home + \"/Dropbox/Oceanography/Projects/annulus/floats/annfloat_sw2D.nc\"\n",
    "nmname = home + \"/Dropbox/Oceanography/Projects/annulus/floats/annfloat_nm2D.nc\"\n",
    "gridname = home + \"/Dropbox/Oceanography/Projects/annulus/grid/ann_grid.nc\"\n",
    "\n",
    "Dg = xr.open_dataset(gridname, decode_times = False)\n",
    "Dp_sw = xr.open_dataset(swname, decode_times = False).isel(traj = 45).isel(obs = range(42,550)) #sees all subdomains\n",
    "Dp_nm = xr.open_dataset(nmname, decode_times = False).isel(traj = 45).isel(obs = range(42,550)) #sees all subdomains\n",
    "# Dp_sw = xr.open_dataset(swname, decode_times = False)#.isel(traj = 9)\n",
    "# Dp_nm = xr.open_dataset(nmname, decode_times = False)#.isel(traj = 9)\n",
    "\n",
    "Dp_sw['days'] = Dp_sw.time/86400\n",
    "Dp_sw = Dp_sw.assign_coords(coords = {'time': Dp_sw.time, 'days': Dp_sw.days})\n",
    "Dp_nm['days'] = Dp_nm.time/86400\n",
    "Dp_nm = Dp_nm.assign_coords(coords = {'time': Dp_nm.time, 'days': Dp_nm.days})\n",
    "\n",
    "#Dp_sw\n",
    "#Dp_nm"
   ]
  },
  {
   "cell_type": "code",
   "execution_count": 7,
   "metadata": {},
   "outputs": [],
   "source": [
    "df_sw = Dp_sw.to_dataframe()\n",
    "# df_sw.lon[df_sw.lon>360] -= 360\n",
    "# df_sw.lon -= 180\n",
    "# df_sw['x'] = (90 - df_sw.lat)*np.cos(df_sw.lon*np.pi/180) \n",
    "# df_sw['y'] = (90 - df_sw.lat)*np.sin(df_sw.lon*np.pi/180)\n",
    "# df_sw['r'] = np.hypot(df_sw.x, df_sw.y)\n",
    "\n",
    "df_nm = Dp_nm.to_dataframe()\n",
    "# df_nm.lon[df_nm.lon>360] -= 360\n",
    "# df_nm.lon -= 180\n",
    "# df_nm['x'] = (90 - df_nm.lat)*np.cos(df_nm.lon*np.pi/180) \n",
    "# df_nm['y'] = (90 - df_nm.lat)*np.sin(df_nm.lon*np.pi/180)\n",
    "# df_nm['r'] = np.hypot(df_nm.x, df_nm.y)\n",
    "\n",
    "lon_rho, lat_rho = cart2polar(Dg.x_rho, Dg.y_rho)"
   ]
  },
  {
   "cell_type": "code",
   "execution_count": 8,
   "metadata": {
    "scrolled": true
   },
   "outputs": [
    {
     "data": {
      "application/vnd.jupyter.widget-view+json": {
       "model_id": "500d3b20fa264c778fa7ce2f71a08f88",
       "version_major": 2,
       "version_minor": 0
      },
      "text/plain": [
       "Canvas(toolbar=Toolbar(toolitems=[('Home', 'Reset original view', 'home', 'home'), ('Back', 'Back to previous …"
      ]
     },
     "metadata": {},
     "output_type": "display_data"
    },
    {
     "name": "stderr",
     "output_type": "stream",
     "text": [
      "<ipython-input-8-c49c15768678>:7: DeprecationWarning: The background_patch property is deprecated. Use GeoAxes.patch instead.\n",
      "  ax.background_patch.set_facecolor(facecolor)\n",
      "/Users/WalterTorres/miniconda3/envs/viz/lib/python3.9/site-packages/cartopy/mpl/geoaxes.py:1702: UserWarning: The input coordinates to pcolormesh are interpreted as cell centers, but are not monotonically increasing or decreasing. This may lead to incorrectly calculated cell edges, in which case, please supply explicit cell edges to pcolormesh.\n",
      "  X, Y, C, shading = self._pcolorargs('pcolormesh', *args,\n"
     ]
    }
   ],
   "source": [
    "%matplotlib ipympl\n",
    "proj = crs.NorthPolarStereo()\n",
    "facecolor = 'w'\n",
    "with sns.axes_style(\"white\", rc={'text.usetex': True}):\n",
    "   \n",
    "    fig, ax = plt.subplots(1, 1, subplot_kw=dict(projection=proj), figsize = (8,6) ) \n",
    "    ax.background_patch.set_facecolor(facecolor)\n",
    "    \n",
    "    ax.set_extent([130,135,89.75,90], crs=crs.PlateCarree())\n",
    "    #ax.set_extent([370, 420, 89.75, 89.9], crs=crs.PlateCarree())\n",
    "    \n",
    "    pc = ax.pcolormesh(lon_rho, lat_rho, Dg.h, transform = crs.PlateCarree(), cmap = cmocean.cm.ice_r, vmin = 1e-1 , vmax = 1e3,\n",
    "                   edgecolor = [0,0,0,.25], linewidth = 0,  norm = LogNorm(), rasterized = True )\n",
    "\n",
    "    s = ax.scatter(df_sw.lon, df_sw.lat, s = 2, c = df_sw.time/3600/24, transform = crs.PlateCarree(), cmap = cc.cm.fire, vmin = 14, vmax = 15.75)\n",
    "   # s = ax.scatter(df_sw.lon, df_sw.lat, s = 2, c = df_sw.time/3600/24, transform = crs.PlateCarree(), cmap = cc.cm.fire, vmin = 14, vmax = 15)\n",
    "    \n",
    "    divider = make_axes_locatable(ax)\n",
    "    ax_cb = divider.new_horizontal(size=\"5%\", pad=0, axes_class=plt.Axes)\n",
    "    fig.add_axes(ax_cb)\n",
    "    \n",
    "    ticks = [14.00, 14.25, 14.50, 14.75, 15.0, 15.25, 15.50, 15.75]\n",
    "    cb = plt.colorbar(s, ax = ax, cax = ax_cb, pad = 0, ticks = ticks)#, orientation = 'horizontal')\n",
    "    cb.set_label(r'Time (days)', color = 'k', size = 10)\n",
    "    cb.ax.tick_params(labelsize=8, width = .5, length = 4)\n",
    "\n",
    "    gl = ax.gridlines(linewidth = 0.25,  alpha = 0.5, color = 'gray')\n",
    "    gl.n_steps = 360\n",
    "\n",
    "    #plt.savefig(\"track.svg\", dpi = 300, facecolor = facecolor, bbox_inches='tight')\n",
    "    plt.show()"
   ]
  },
  {
   "cell_type": "markdown",
   "metadata": {},
   "source": [
    "### white background\n"
   ]
  },
  {
   "cell_type": "code",
   "execution_count": 9,
   "metadata": {},
   "outputs": [],
   "source": [
    "#preprocessing\n",
    "\n",
    "def ds2df(ds):\n",
    "    ds[\"coriolis_bar\"] = ds.cor_bar + ds.fsco_bar\n",
    "    ds[\"vf_bar\"] = ds.hjvf_bar + ds.kvrf_bar  \n",
    "    ds[\"accel_bar\"] = -ds.accel_bar\n",
    "    \n",
    "    return ds.to_dataframe()\n",
    "\n",
    "df_sw = ds2df(Dp_sw) #Dp_sw.to_dataframe() #.isel(traj = i).to_dataframe()\n",
    "df_nm = ds2df(Dp_nm) #Dp_nm.to_dataframe() #.isel(traj = i).to_dataframe()"
   ]
  },
  {
   "cell_type": "code",
   "execution_count": 17,
   "metadata": {},
   "outputs": [],
   "source": [
    "# lineopts = {\"line_width\": 1,\n",
    "#             \"ylim\": (-1e-3,1e-3)}\n",
    "# (\n",
    "# (\n",
    "# df_sw.plot(x = \"days\", y = \"prsgrd_bar\", color = \"orange\", **lineopts)*\n",
    "# df_sw.plot(x = \"days\", y = \"hadv_bar\", color = \"green\", **lineopts)*\n",
    "# df_sw.plot(x = \"days\", y = \"bstr_bar\", color = \"purple\", **lineopts)\n",
    "# )\n",
    "# +\n",
    "# (\n",
    "# df_nm.plot(x = \"days\", y = \"prsgrd_bar\", color = \"orange\",  **lineopts)*\n",
    "# df_nm.plot(x = \"days\", y = \"hadv_bar\", color = \"green\", ax = ax[1], **lineopts)*\n",
    "# df_nm.plot(x = \"days\", y = \"coriolis_bar\", color = \"purple\", ax = ax[1], **lineopts)\n",
    "# )\n",
    "# )"
   ]
  },
  {
   "cell_type": "code",
   "execution_count": 23,
   "metadata": {},
   "outputs": [
    {
     "data": {
      "application/vnd.jupyter.widget-view+json": {
       "model_id": "87ed4159b3774b7abfd4cd546bae420f",
       "version_major": 2,
       "version_minor": 0
      },
      "text/plain": [
       "Canvas(toolbar=Toolbar(toolitems=[('Home', 'Reset original view', 'home', 'home'), ('Back', 'Back to previous …"
      ]
     },
     "metadata": {},
     "output_type": "display_data"
    }
   ],
   "source": [
    "from colorcet import glasbey_dark as glasbey\n",
    "\n",
    "pd.options.plotting.backend = 'matplotlib'\n",
    "\n",
    "#varlist = [\"accel\", \"cor\", \"hadv\", \"fsco\", \"hjvf\", \"hvisc\", \"kvrf\", \"prsgrd\", \"vadv\", \"vjvf\", \"vvisc\", \"wbrk\"]\n",
    "#varlist = [\"accel\", \"hadv\", \"vadv\", \"prsgrd\", \"coriolis\", \"hvisc\", \"vvisc\", \"vf\", \"wbrk\"]\n",
    "\n",
    "varlist = [\"hadv_bar\", \"coriolis_bar\",   \"accel_bar\", \"prsgrd_bar\", \"hvisc_bar\", \"bstr_bar\", \"vf_bar\", \"wbrk_bar\"]\n",
    "n = len(varlist)\n",
    "ind = 85 #14,16 ok, 33 best, 35+43+68 good, 48+67+83+84 quite good, 86 best?\n",
    "\n",
    "\n",
    "rcparams = {'text.usetex': False, \n",
    "            'text.latex.preamble' : [r'\\usepackage{lmodern}']}\n",
    "plt.rcParams.update({\"text.usetex\": False})\n",
    "\n",
    "\n",
    "sns.set_palette(\"tab10\")\n",
    "# for i in range(10):\n",
    "\n",
    "lineopts = {\"line_width\": 1,\n",
    "            \"ylim\": (-1e-3,1e-3)}\n",
    "\n",
    "with sns.axes_style(\"white\", rc=rcparams):\n",
    "\n",
    "    fig, ax = plt.subplots(3,1, figsize = (8, 10.5), sharex = True, facecolor = 'w')\n",
    "    for axis in ax.flatten()[:-1]:\n",
    "        axis.set_facecolor = 'w'\n",
    "        axis.set_yscale('symlog', linthresh=5e-6)\n",
    "        #axis.set_prop_cycle(color = glasbey[ind:ind+n])\n",
    "\n",
    "        axis.set_ylabel('$ms^{-2}$', fontsize = 12)\n",
    "        axis.spines['bottom'].set_visible(False)\n",
    "        axis.spines['right'].set_visible(False)\n",
    "        axis.spines['top'].set_visible(False)\n",
    "        axis.yaxis.set_ticks_position('left')\n",
    "        axis.yaxis.set_tick_params(labelsize = 8, width = .25)\n",
    "        axis.xaxis.grid(True)\n",
    "        #axis.xaxis.set_ticks_position('bottom')\n",
    "        #axis.tick_params(direction='out', length=6, width=2, colors='r',\n",
    "        #       grid_color='r', grid_alpha=0.5)\n",
    "\n",
    "    ax[2].xaxis.set_ticks_position('bottom')\n",
    "    ax[2].xaxis.set_tick_params(labelsize = 8, width = .25)\n",
    "    ax[2].yaxis.set_ticks_position('left')\n",
    "    ax[2].yaxis.set_tick_params(labelsize = 8, width = .25)\n",
    "    ax[2].set_facecolor = 'w'\n",
    "    ax[2].spines['right'].set_visible(False)\n",
    "    ax[2].spines['top'].set_visible(False)\n",
    "\n",
    "    df_sw.plot(x = \"days\", y = varlist, ax = ax[0], ylim = (-1e-3, 1e-3), linewidth = 1)\n",
    "    df_nm.plot(x = \"days\", y = varlist, ax = ax[1], ylim = (-1e-3, 1e-3), linewidth = 1)\n",
    "    df_sw[\"depth\"] = -df_sw.h\n",
    "    df_sw.plot(x = \"days\", y = \"depth\", ax = ax[2], linewidth = .75, linestyle = \"--\", color = \"k\", legend =False)\n",
    "    \n",
    "\n",
    "    #ax[1].tick_params(width = 2, length = 5)\n",
    "\n",
    "    ax[0].legend().set_visible(False)\n",
    "    legend = ax[1].legend(frameon = False, borderaxespad=-12, prop={'size': 8}, bbox_to_anchor = (1.1,.4), )\n",
    "    #legend.get_texts()[0].set_text('acceleration')\n",
    "#     legend.get_texts()[1].set_text('horizontal advection')\n",
    "#     legend.get_texts()[0].set_text('pressure gradient')\n",
    "#     legend.get_texts()[2].set_text('bottom stress/coriolis')\n",
    "#     legend.get_texts()[4].set_text('horizontal viscosity')\n",
    "#     legend.get_texts()[5].set_text('bottom stress')\n",
    "#     legend.get_texts()[6].set_text('vortex forces')\n",
    "#     legend.get_texts()[7].set_text('wave breaking')\n",
    "    \n",
    "    #legend.get_texts()[6].set_text('$\\it{k}$ vortex force')\n",
    "    #legend.get_texts()[3].set_text('stokes coriolis')\n",
    "    #legend.get_texts()[4].set_text('horizontal $\\it{j}$ vortex force')\n",
    "    #legend.get_texts()[9].set_text('vertical $\\it{j}$ vortex force')\n",
    "    \n",
    "\n",
    "    #ax[2].set_xlim(14,15.85)\n",
    "\n",
    "    ax[2].set_ylim(-150, 0)\n",
    "    ax[2].set_ylabel(\"Depth (m)\", fontsize = 12)\n",
    "    ax[2].set_xlabel(\"Days\", fontsize = 12)\n",
    "    fig.subplots_adjust(hspace=0)\n",
    "    plt.tight_layout()\n",
    "    \n",
    "    #plt.savefig('lagrangeMomentum-lite.svg',  dpi = 600, bbox_inches='tight') \n",
    "    #plt.savefig(\"{}.png\".format(i),  dpi = 300, bbox_inches='tight')\n",
    "    #plt.close(fig)\n",
    "    \n",
    "    #plt.show()"
   ]
  },
  {
   "cell_type": "markdown",
   "metadata": {},
   "source": [
    "### dark background\n"
   ]
  },
  {
   "cell_type": "code",
   "execution_count": null,
   "metadata": {},
   "outputs": [],
   "source": [
    "from colorcet import glasbey_light as glasbey\n",
    "varlist = [\"accel\", \"cor\", \"hadv\", \"fsco\", \"hjvf\", \"hvisc\", \"kvrf\", \"prsgrd\", \"vadv\", \"vjvf\", \"vvisc\", \"wbrk\"]\n",
    "n = len(varlist)\n",
    "fig, ax = plt.subplots(3,1, figsize = (10, 8), sharex = True)\n",
    "ind = 79 #60, 70 good, 8 glassby cool\n",
    "ax[0].set_prop_cycle(color = glasbey[ind:ind+n])\n",
    "ax[1].set_prop_cycle(color = glasbey[ind:ind+n])\n",
    "ax[0].set_ylabel('$ms^{-2}$')\n",
    "ax[1].set_ylabel('$ms^{-2}$')\n",
    "ax[0].spines['bottom'].set_visible(False)\n",
    "ax[1].spines['bottom'].set_visible(False)\n",
    "\n",
    "df_sw.plot(x = \"days\", y = varlist, ax = ax[0], ylim = (-1e-5, 1e-5), linewidth = .75)\n",
    "df_nm.plot(x = \"days\", y = varlist, ax = ax[1], ylim = (-1e-5, 1e-5), linewidth = .75)\n",
    "\n",
    "ax[0].legend().set_visible(False)\n",
    "legend = ax[1].legend(bbox_to_anchor = (1.1,1.5), frameon = False, loc = \"center right\")\n",
    "plt.setp(legend.get_texts(), color = \"w\")\n",
    "\n",
    "ax[2].plot(df_sw.days.values, -df_sw.h.values, 'w--', linewidth = .75)\n",
    "ax[2].set_ylim(-150, 0)\n",
    "ax[2].set_ylabel(\"Depth (m)\")\n",
    "ax[2].set_xlabel(\"Days\")\n",
    "\n",
    "# axh = ax[1].twinx()\n",
    "# axh.set_ylabel('Depth (m)')\n",
    "# axh.set_ylim()\n",
    "# axh.plot(df_nm.days.values, -df_nm.h.values, 'w--')\n",
    "plt.show()"
   ]
  },
  {
   "cell_type": "code",
   "execution_count": null,
   "metadata": {},
   "outputs": [],
   "source": []
  }
 ],
 "metadata": {
  "kernelspec": {
   "display_name": "Python 3",
   "language": "python",
   "name": "python3"
  },
  "language_info": {
   "codemirror_mode": {
    "name": "ipython",
    "version": 3
   },
   "file_extension": ".py",
   "mimetype": "text/x-python",
   "name": "python",
   "nbconvert_exporter": "python",
   "pygments_lexer": "ipython3",
   "version": "3.9.5"
  }
 },
 "nbformat": 4,
 "nbformat_minor": 4
}
