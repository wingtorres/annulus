{
 "cells": [
  {
   "cell_type": "code",
   "execution_count": 86,
   "metadata": {},
   "outputs": [
    {
     "data": {
      "text/plain": [
       "<xarray.core.options.set_options at 0x7fe3ba44a730>"
      ]
     },
     "execution_count": 86,
     "metadata": {},
     "output_type": "execute_result"
    }
   ],
   "source": [
    "import os \n",
    "import sys\n",
    "import xarray as xr\n",
    "import numpy as np\n",
    "import pandas as pd\n",
    "\n",
    "import cartopy.crs as crs\n",
    "import cmocean\n",
    "import seaborn as sns\n",
    "import hvplot.pandas\n",
    "import matplotlib.pyplot as plt\n",
    "import matplotlib.ticker as mticker\n",
    "from mpl_toolkits.axes_grid1 import make_axes_locatable\n",
    "from matplotlib.colors import LogNorm\n",
    "import colorcet as cc\n",
    "from cartopy.mpl.gridliner import LONGITUDE_FORMATTER, LATITUDE_FORMATTER\n",
    "\n",
    "from pycoawst.tools.grid import cart2polar\n",
    "\n",
    "home = os.environ['HOME']\n",
    "pd.options.plotting.backend = 'holoviews'\n",
    "xr.set_options(display_style =\"html\")"
   ]
  },
  {
   "cell_type": "code",
   "execution_count": 2,
   "metadata": {},
   "outputs": [
    {
     "data": {
      "text/html": [
       "<table style=\"border: 2px solid white;\">\n",
       "<tr>\n",
       "<td style=\"vertical-align: top; border: 0px solid white\">\n",
       "<h3 style=\"text-align: left;\">Client</h3>\n",
       "<ul style=\"text-align: left; list-style: none; margin: 0; padding: 0;\">\n",
       "  <li><b>Scheduler: </b>tcp://127.0.0.1:62412</li>\n",
       "  <li><b>Dashboard: </b><a href='http://127.0.0.1:8787/status' target='_blank'>http://127.0.0.1:8787/status</a></li>\n",
       "</ul>\n",
       "</td>\n",
       "<td style=\"vertical-align: top; border: 0px solid white\">\n",
       "<h3 style=\"text-align: left;\">Cluster</h3>\n",
       "<ul style=\"text-align: left; list-style:none; margin: 0; padding: 0;\">\n",
       "  <li><b>Workers: </b>4</li>\n",
       "  <li><b>Cores: </b>8</li>\n",
       "  <li><b>Memory: </b>16.00 GiB</li>\n",
       "</ul>\n",
       "</td>\n",
       "</tr>\n",
       "</table>"
      ],
      "text/plain": [
       "<Client: 'tcp://127.0.0.1:62412' processes=4 threads=8, memory=16.00 GiB>"
      ]
     },
     "execution_count": 2,
     "metadata": {},
     "output_type": "execute_result"
    }
   ],
   "source": [
    "from dask.distributed import Client\n",
    "Client()"
   ]
  },
  {
   "cell_type": "code",
   "execution_count": 27,
   "metadata": {},
   "outputs": [],
   "source": [
    "# swname = home + \"/Dropbox/Oceanography/Projects/annulus/floats/10channelfloats/annFloats_sw10.nc\"\n",
    "# nmname = home + \"/Dropbox/Oceanography/Projects/annulus/floats/10channelfloats/annFloats_nm10.nc\"\n",
    "swname = home + \"/Dropbox/Oceanography/Projects/annulus/floats/annfloat_sw2D.nc\"\n",
    "nmname = home + \"/Dropbox/Oceanography/Projects/annulus/floats/annfloat_nm2D.nc\"\n",
    "gridname = home + \"/Dropbox/Oceanography/Projects/annulus/grid/ann_grid.nc\"\n",
    "\n",
    "Dg = xr.open_dataset(gridname, decode_times = False)\n",
    "Dp_sw = xr.open_dataset(swname, decode_times = False).isel(traj = 45).isel(obs = range(42,550)) #sees all subdomains\n",
    "Dp_nm = xr.open_dataset(nmname, decode_times = False).isel(traj = 45).isel(obs = range(42,550)) #sees all subdomains\n",
    "# Dp_sw = xr.open_dataset(swname, decode_times = False)#.isel(traj = 9)\n",
    "# Dp_nm = xr.open_dataset(nmname, decode_times = False)#.isel(traj = 9)\n",
    "\n",
    "Dp_sw['days'] = Dp_sw.time/86400\n",
    "Dp_sw = Dp_sw.assign_coords(coords = {'time': Dp_sw.time, 'days': Dp_sw.days})\n",
    "Dp_nm['days'] = Dp_nm.time/86400\n",
    "Dp_nm = Dp_nm.assign_coords(coords = {'time': Dp_nm.time, 'days': Dp_nm.days})\n",
    "\n",
    "#Dp_sw\n",
    "#Dp_nm"
   ]
  },
  {
   "cell_type": "code",
   "execution_count": 28,
   "metadata": {},
   "outputs": [],
   "source": [
    "df_sw = Dp_sw.to_dataframe()\n",
    "# df_sw.lon[df_sw.lon>360] -= 360\n",
    "# df_sw.lon -= 180\n",
    "# df_sw['x'] = (90 - df_sw.lat)*np.cos(df_sw.lon*np.pi/180) \n",
    "# df_sw['y'] = (90 - df_sw.lat)*np.sin(df_sw.lon*np.pi/180)\n",
    "# df_sw['r'] = np.hypot(df_sw.x, df_sw.y)\n",
    "\n",
    "df_nm = Dp_nm.to_dataframe()\n",
    "# df_nm.lon[df_nm.lon>360] -= 360\n",
    "# df_nm.lon -= 180\n",
    "# df_nm['x'] = (90 - df_nm.lat)*np.cos(df_nm.lon*np.pi/180) \n",
    "# df_nm['y'] = (90 - df_nm.lat)*np.sin(df_nm.lon*np.pi/180)\n",
    "# df_nm['r'] = np.hypot(df_nm.x, df_nm.y)\n",
    "\n",
    "lon_rho, lat_rho = cart2polar(Dg.x_rho, Dg.y_rho)"
   ]
  },
  {
   "cell_type": "code",
   "execution_count": 81,
   "metadata": {
    "scrolled": true
   },
   "outputs": [
    {
     "data": {
      "application/vnd.jupyter.widget-view+json": {
       "model_id": "836c96252d53433fa94806a7d3f7dada",
       "version_major": 2,
       "version_minor": 0
      },
      "text/plain": [
       "Canvas(toolbar=Toolbar(toolitems=[('Home', 'Reset original view', 'home', 'home'), ('Back', 'Back to previous …"
      ]
     },
     "metadata": {},
     "output_type": "display_data"
    },
    {
     "name": "stderr",
     "output_type": "stream",
     "text": [
      "<ipython-input-81-c49c15768678>:7: DeprecationWarning: The background_patch property is deprecated. Use GeoAxes.patch instead.\n",
      "  ax.background_patch.set_facecolor(facecolor)\n",
      "/Users/WalterTorres/miniconda3/envs/viz/lib/python3.9/site-packages/cartopy/mpl/geoaxes.py:1702: UserWarning: The input coordinates to pcolormesh are interpreted as cell centers, but are not monotonically increasing or decreasing. This may lead to incorrectly calculated cell edges, in which case, please supply explicit cell edges to pcolormesh.\n",
      "  X, Y, C, shading = self._pcolorargs('pcolormesh', *args,\n"
     ]
    }
   ],
   "source": [
    "%matplotlib ipympl\n",
    "proj = crs.NorthPolarStereo()\n",
    "facecolor = 'w'\n",
    "with sns.axes_style(\"white\", rc={'text.usetex': True}):\n",
    "   \n",
    "    fig, ax = plt.subplots(1, 1, subplot_kw=dict(projection=proj), figsize = (8,6) ) \n",
    "    ax.background_patch.set_facecolor(facecolor)\n",
    "    \n",
    "    ax.set_extent([130,135,89.75,90], crs=crs.PlateCarree())\n",
    "    #ax.set_extent([370, 420, 89.75, 89.9], crs=crs.PlateCarree())\n",
    "    \n",
    "    pc = ax.pcolormesh(lon_rho, lat_rho, Dg.h, transform = crs.PlateCarree(), cmap = cmocean.cm.ice_r, vmin = 1e-1 , vmax = 1e3,\n",
    "                   edgecolor = [0,0,0,.25], linewidth = 0,  norm = LogNorm(), rasterized = True )\n",
    "\n",
    "    s = ax.scatter(df_sw.lon, df_sw.lat, s = 2, c = df_sw.time/3600/24, transform = crs.PlateCarree(), cmap = cc.cm.fire, vmin = 14, vmax = 15.75)\n",
    "   # s = ax.scatter(df_sw.lon, df_sw.lat, s = 2, c = df_sw.time/3600/24, transform = crs.PlateCarree(), cmap = cc.cm.fire, vmin = 14, vmax = 15)\n",
    "    \n",
    "    divider = make_axes_locatable(ax)\n",
    "    ax_cb = divider.new_horizontal(size=\"5%\", pad=0, axes_class=plt.Axes)\n",
    "    fig.add_axes(ax_cb)\n",
    "    \n",
    "    ticks = [14.00, 14.25, 14.50, 14.75, 15.0, 15.25, 15.50, 15.75]\n",
    "    cb = plt.colorbar(s, ax = ax, cax = ax_cb, pad = 0, ticks = ticks)#, orientation = 'horizontal')\n",
    "    cb.set_label(r'Time (days)', color = 'k', size = 10)\n",
    "    cb.ax.tick_params(labelsize=8, width = .5, length = 4)\n",
    "\n",
    "    gl = ax.gridlines(linewidth = 0.25,  alpha = 0.5, color = 'gray')\n",
    "    gl.n_steps = 360\n",
    "\n",
    "    #plt.savefig(\"track.svg\", dpi = 300, facecolor = facecolor, bbox_inches='tight')\n",
    "    plt.show()"
   ]
  },
  {
   "cell_type": "markdown",
   "metadata": {},
   "source": [
    "### white background\n"
   ]
  },
  {
   "cell_type": "code",
   "execution_count": 29,
   "metadata": {},
   "outputs": [],
   "source": [
    "#preprocessing\n",
    "\n",
    "def ds2df(ds):\n",
    "    ds[\"coriolis_bar\"] = ds.cor_bar + ds.fsco_bar\n",
    "    ds[\"vf_bar\"] = ds.hjvf_bar + ds.kvrf_bar  \n",
    "    ds[\"accel_bar\"] = -ds.accel_bar\n",
    "    \n",
    "    return ds.to_dataframe()\n",
    "\n",
    "df_sw = ds2df(Dp_sw) #Dp_sw.to_dataframe() #.isel(traj = i).to_dataframe()\n",
    "df_nm = ds2df(Dp_nm) #Dp_nm.to_dataframe() #.isel(traj = i).to_dataframe()"
   ]
  },
  {
   "cell_type": "code",
   "execution_count": 96,
   "metadata": {},
   "outputs": [
    {
     "name": "stderr",
     "output_type": "stream",
     "text": [
      "WARNING:param.main: hvPlot does not have the concept of axes, and the ax keyword will be ignored. Compose plots with the * operator to overlay plots or the + operator to lay out plots beside each other instead.\n",
      "WARNING:param.main: hvPlot does not have the concept of axes, and the ax keyword will be ignored. Compose plots with the * operator to overlay plots or the + operator to lay out plots beside each other instead.\n"
     ]
    },
    {
     "data": {},
     "metadata": {},
     "output_type": "display_data"
    },
    {
     "data": {
      "application/vnd.holoviews_exec.v0+json": "",
      "text/html": [
       "<div id='1002'>\n",
       "\n",
       "\n",
       "\n",
       "\n",
       "\n",
       "  <div class=\"bk-root\" id=\"e7e06a94-5ce4-4467-a79e-0b38455526a5\" data-root-id=\"1002\"></div>\n",
       "</div>\n",
       "<script type=\"application/javascript\">(function(root) {\n",
       "  function embed_document(root) {\n",
       "    var docs_json = {\"4fab1eea-16cf-40f2-953c-954dfaf98666\":{\"defs\":[],\"roots\":{\"references\":[{\"attributes\":{\"children\":[{\"id\":\"1003\"},{\"id\":\"1371\"},{\"id\":\"1624\"}],\"margin\":[0,0,0,0],\"name\":\"Row06195\",\"tags\":[\"embedded\"]},\"id\":\"1002\",\"type\":\"Row\"},{\"attributes\":{\"margin\":[5,5,5,5],\"name\":\"HSpacer06199\",\"sizing_mode\":\"stretch_width\"},\"id\":\"1003\",\"type\":\"Spacer\"},{\"attributes\":{\"line_color\":\"purple\",\"line_width\":0.6666666666666666,\"x\":{\"field\":\"days\"},\"y\":{\"field\":\"coriolis_bar\"}},\"id\":\"1239\",\"type\":\"Line\"},{\"attributes\":{\"toolbar\":{\"id\":\"1369\"},\"toolbar_location\":\"above\"},\"id\":\"1370\",\"type\":\"ToolbarBox\"},{\"attributes\":{\"text_color\":\"black\",\"text_font_size\":\"12pt\"},\"id\":\"1176\",\"type\":\"Title\"},{\"attributes\":{\"callback\":null,\"renderers\":[{\"id\":\"1219\"}],\"tags\":[\"hv_created\"],\"tooltips\":[[\"days\",\"@{days}\"],[\"prsgrd_bar\",\"@{prsgrd_bar}\"]]},\"id\":\"1172\",\"type\":\"HoverTool\"},{\"attributes\":{\"data\":{\"days\":{\"__ndarray__\":\"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\",\"dtype\":\"float64\",\"order\":\"little\",\"shape\":[508]},\"hadv_bar\":{\"__ndarray__\":\"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\",\"dtype\":\"float32\",\"order\":\"little\",\"shape\":[508]}},\"selected\":{\"id\":\"1223\"},\"selection_policy\":{\"id\":\"1250\"}},\"id\":\"1222\",\"type\":\"ColumnDataSource\"},{\"attributes\":{},\"id\":\"1016\",\"type\":\"LinearScale\"},{\"attributes\":{\"line_alpha\":0.2,\"line_color\":\"purple\",\"line_width\":0.6666666666666666,\"x\":{\"field\":\"days\"},\"y\":{\"field\":\"coriolis_bar\"}},\"id\":\"1236\",\"type\":\"Line\"},{\"attributes\":{\"children\":[{\"id\":\"1370\"},{\"id\":\"1368\"}]},\"id\":\"1371\",\"type\":\"Column\"},{\"attributes\":{\"children\":[[{\"id\":\"1009\"},0,0],[{\"id\":\"1175\"},0,1]]},\"id\":\"1368\",\"type\":\"GridBox\"},{\"attributes\":{\"line_color\":\"orange\",\"line_width\":0.6666666666666666,\"x\":{\"field\":\"days\"},\"y\":{\"field\":\"prsgrd_bar\"}},\"id\":\"1216\",\"type\":\"Line\"},{\"attributes\":{\"axis_label\":\"days\",\"formatter\":{\"id\":\"1043\"},\"major_label_policy\":{\"id\":\"1042\"},\"ticker\":{\"id\":\"1019\"}},\"id\":\"1018\",\"type\":\"LinearAxis\"},{\"attributes\":{\"end\":15.78125,\"reset_end\":15.78125,\"reset_start\":14.020833333333334,\"start\":14.020833333333334,\"tags\":[[[\"days\",\"days\",null]]]},\"id\":\"1004\",\"type\":\"Range1d\"},{\"attributes\":{},\"id\":\"1014\",\"type\":\"LinearScale\"},{\"attributes\":{},\"id\":\"1042\",\"type\":\"AllLabels\"},{\"attributes\":{\"text_color\":\"black\",\"text_font_size\":\"12pt\"},\"id\":\"1010\",\"type\":\"Title\"},{\"attributes\":{},\"id\":\"1208\",\"type\":\"AllLabels\"},{\"attributes\":{\"line_color\":\"green\",\"line_width\":0.6666666666666666,\"x\":{\"field\":\"days\"},\"y\":{\"field\":\"hadv_bar\"}},\"id\":\"1225\",\"type\":\"Line\"},{\"attributes\":{},\"id\":\"1211\",\"type\":\"AllLabels\"},{\"attributes\":{},\"id\":\"1045\",\"type\":\"AllLabels\"},{\"attributes\":{},\"id\":\"1209\",\"type\":\"BasicTickFormatter\"},{\"attributes\":{},\"id\":\"1180\",\"type\":\"LinearScale\"},{\"attributes\":{\"callback\":null,\"renderers\":[{\"id\":\"1237\"}],\"tags\":[\"hv_created\"],\"tooltips\":[[\"days\",\"@{days}\"],[\"coriolis_bar\",\"@{coriolis_bar}\"]]},\"id\":\"1174\",\"type\":\"HoverTool\"},{\"attributes\":{\"below\":[{\"id\":\"1018\"}],\"center\":[{\"id\":\"1021\"},{\"id\":\"1025\"}],\"height\":300,\"left\":[{\"id\":\"1022\"}],\"margin\":null,\"min_border_bottom\":10,\"min_border_left\":10,\"min_border_right\":10,\"min_border_top\":10,\"renderers\":[{\"id\":\"1053\"},{\"id\":\"1062\"},{\"id\":\"1071\"}],\"sizing_mode\":\"fixed\",\"title\":{\"id\":\"1010\"},\"toolbar\":{\"id\":\"1032\"},\"toolbar_location\":null,\"width\":700,\"x_range\":{\"id\":\"1004\"},\"x_scale\":{\"id\":\"1014\"},\"y_range\":{\"id\":\"1005\"},\"y_scale\":{\"id\":\"1016\"}},\"id\":\"1009\",\"subtype\":\"Figure\",\"type\":\"Plot\"},{\"attributes\":{\"callback\":null,\"renderers\":[{\"id\":\"1071\"}],\"tags\":[\"hv_created\"],\"tooltips\":[[\"days\",\"@{days}\"],[\"bstr_bar\",\"@{bstr_bar}\"]]},\"id\":\"1008\",\"type\":\"HoverTool\"},{\"attributes\":{\"data_source\":{\"id\":\"1213\"},\"glyph\":{\"id\":\"1216\"},\"hover_glyph\":null,\"muted_glyph\":{\"id\":\"1218\"},\"nonselection_glyph\":{\"id\":\"1217\"},\"selection_glyph\":{\"id\":\"1221\"},\"view\":{\"id\":\"1220\"}},\"id\":\"1219\",\"type\":\"GlyphRenderer\"},{\"attributes\":{},\"id\":\"1043\",\"type\":\"BasicTickFormatter\"},{\"attributes\":{},\"id\":\"1212\",\"type\":\"BasicTickFormatter\"},{\"attributes\":{},\"id\":\"1066\",\"type\":\"Selection\"},{\"attributes\":{},\"id\":\"1046\",\"type\":\"BasicTickFormatter\"},{\"attributes\":{\"below\":[{\"id\":\"1184\"}],\"center\":[{\"id\":\"1187\"},{\"id\":\"1191\"}],\"height\":300,\"left\":[{\"id\":\"1188\"}],\"margin\":null,\"min_border_bottom\":10,\"min_border_left\":10,\"min_border_right\":10,\"min_border_top\":10,\"renderers\":[{\"id\":\"1219\"},{\"id\":\"1228\"},{\"id\":\"1237\"}],\"sizing_mode\":\"fixed\",\"title\":{\"id\":\"1176\"},\"toolbar\":{\"id\":\"1198\"},\"toolbar_location\":null,\"width\":700,\"x_range\":{\"id\":\"1004\"},\"x_scale\":{\"id\":\"1180\"},\"y_range\":{\"id\":\"1005\"},\"y_scale\":{\"id\":\"1182\"}},\"id\":\"1175\",\"subtype\":\"Figure\",\"type\":\"Plot\"},{\"attributes\":{},\"id\":\"1194\",\"type\":\"WheelZoomTool\"},{\"attributes\":{\"source\":{\"id\":\"1056\"}},\"id\":\"1063\",\"type\":\"CDSView\"},{\"attributes\":{\"callback\":null,\"renderers\":[{\"id\":\"1062\"}],\"tags\":[\"hv_created\"],\"tooltips\":[[\"days\",\"@{days}\"],[\"hadv_bar\",\"@{hadv_bar}\"]]},\"id\":\"1007\",\"type\":\"HoverTool\"},{\"attributes\":{\"axis_label\":\"days\",\"formatter\":{\"id\":\"1209\"},\"major_label_policy\":{\"id\":\"1208\"},\"ticker\":{\"id\":\"1185\"}},\"id\":\"1184\",\"type\":\"LinearAxis\"},{\"attributes\":{\"axis_label\":\"prsgrd_bar\",\"formatter\":{\"id\":\"1046\"},\"major_label_policy\":{\"id\":\"1045\"},\"ticker\":{\"id\":\"1023\"}},\"id\":\"1022\",\"type\":\"LinearAxis\"},{\"attributes\":{\"axis\":{\"id\":\"1018\"},\"grid_line_color\":null,\"ticker\":null},\"id\":\"1021\",\"type\":\"Grid\"},{\"attributes\":{},\"id\":\"1182\",\"type\":\"LinearScale\"},{\"attributes\":{},\"id\":\"1185\",\"type\":\"BasicTicker\"},{\"attributes\":{\"callback\":null,\"renderers\":[{\"id\":\"1053\"}],\"tags\":[\"hv_created\"],\"tooltips\":[[\"days\",\"@{days}\"],[\"prsgrd_bar\",\"@{prsgrd_bar}\"]]},\"id\":\"1006\",\"type\":\"HoverTool\"},{\"attributes\":{\"line_alpha\":0.2,\"line_color\":\"orange\",\"line_width\":0.6666666666666666,\"x\":{\"field\":\"days\"},\"y\":{\"field\":\"prsgrd_bar\"}},\"id\":\"1218\",\"type\":\"Line\"},{\"attributes\":{},\"id\":\"1189\",\"type\":\"BasicTicker\"},{\"attributes\":{\"line_alpha\":0.1,\"line_color\":\"orange\",\"line_width\":0.6666666666666666,\"x\":{\"field\":\"days\"},\"y\":{\"field\":\"prsgrd_bar\"}},\"id\":\"1217\",\"type\":\"Line\"},{\"attributes\":{},\"id\":\"1082\",\"type\":\"UnionRenderers\"},{\"attributes\":{},\"id\":\"1214\",\"type\":\"Selection\"},{\"attributes\":{\"line_alpha\":0.1,\"line_color\":\"green\",\"line_width\":0.6666666666666666,\"x\":{\"field\":\"days\"},\"y\":{\"field\":\"hadv_bar\"}},\"id\":\"1060\",\"type\":\"Line\"},{\"attributes\":{},\"id\":\"1019\",\"type\":\"BasicTicker\"},{\"attributes\":{\"axis\":{\"id\":\"1188\"},\"dimension\":1,\"grid_line_color\":null,\"ticker\":null},\"id\":\"1191\",\"type\":\"Grid\"},{\"attributes\":{\"axis\":{\"id\":\"1022\"},\"dimension\":1,\"grid_line_color\":null,\"ticker\":null},\"id\":\"1025\",\"type\":\"Grid\"},{\"attributes\":{},\"id\":\"1248\",\"type\":\"UnionRenderers\"},{\"attributes\":{},\"id\":\"1023\",\"type\":\"BasicTicker\"},{\"attributes\":{\"source\":{\"id\":\"1213\"}},\"id\":\"1220\",\"type\":\"CDSView\"},{\"attributes\":{},\"id\":\"1048\",\"type\":\"Selection\"},{\"attributes\":{\"data\":{\"days\":{\"__ndarray__\":\"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\",\"dtype\":\"float64\",\"order\":\"little\",\"shape\":[508]},\"prsgrd_bar\":{\"__ndarray__\":\"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\",\"dtype\":\"float32\",\"order\":\"little\",\"shape\":[508]}},\"selected\":{\"id\":\"1048\"},\"selection_policy\":{\"id\":\"1082\"}},\"id\":\"1047\",\"type\":\"ColumnDataSource\"},{\"attributes\":{},\"id\":\"1193\",\"type\":\"PanTool\"},{\"attributes\":{\"line_color\":\"orange\",\"line_width\":0.6666666666666666,\"x\":{\"field\":\"days\"},\"y\":{\"field\":\"prsgrd_bar\"}},\"id\":\"1055\",\"type\":\"Line\"},{\"attributes\":{\"line_color\":\"green\",\"line_width\":0.6666666666666666,\"x\":{\"field\":\"days\"},\"y\":{\"field\":\"hadv_bar\"}},\"id\":\"1059\",\"type\":\"Line\"},{\"attributes\":{\"axis\":{\"id\":\"1184\"},\"grid_line_color\":null,\"ticker\":null},\"id\":\"1187\",\"type\":\"Grid\"},{\"attributes\":{},\"id\":\"1026\",\"type\":\"SaveTool\"},{\"attributes\":{\"line_alpha\":0.2,\"line_color\":\"green\",\"line_width\":0.6666666666666666,\"x\":{\"field\":\"days\"},\"y\":{\"field\":\"hadv_bar\"}},\"id\":\"1061\",\"type\":\"Line\"},{\"attributes\":{\"axis_label\":\"prsgrd_bar\",\"formatter\":{\"id\":\"1212\"},\"major_label_policy\":{\"id\":\"1211\"},\"ticker\":{\"id\":\"1189\"}},\"id\":\"1188\",\"type\":\"LinearAxis\"},{\"attributes\":{},\"id\":\"1027\",\"type\":\"PanTool\"},{\"attributes\":{},\"id\":\"1028\",\"type\":\"WheelZoomTool\"},{\"attributes\":{\"line_color\":\"orange\",\"line_width\":0.6666666666666666,\"x\":{\"field\":\"days\"},\"y\":{\"field\":\"prsgrd_bar\"}},\"id\":\"1221\",\"type\":\"Line\"},{\"attributes\":{},\"id\":\"1192\",\"type\":\"SaveTool\"},{\"attributes\":{\"overlay\":{\"id\":\"1031\"}},\"id\":\"1029\",\"type\":\"BoxZoomTool\"},{\"attributes\":{\"data_source\":{\"id\":\"1056\"},\"glyph\":{\"id\":\"1059\"},\"hover_glyph\":null,\"muted_glyph\":{\"id\":\"1061\"},\"nonselection_glyph\":{\"id\":\"1060\"},\"selection_glyph\":{\"id\":\"1064\"},\"view\":{\"id\":\"1063\"}},\"id\":\"1062\",\"type\":\"GlyphRenderer\"},{\"attributes\":{\"margin\":[5,5,5,5],\"name\":\"HSpacer06200\",\"sizing_mode\":\"stretch_width\"},\"id\":\"1624\",\"type\":\"Spacer\"},{\"attributes\":{},\"id\":\"1030\",\"type\":\"ResetTool\"},{\"attributes\":{},\"id\":\"1057\",\"type\":\"Selection\"},{\"attributes\":{\"overlay\":{\"id\":\"1197\"}},\"id\":\"1195\",\"type\":\"BoxZoomTool\"},{\"attributes\":{\"source\":{\"id\":\"1047\"}},\"id\":\"1054\",\"type\":\"CDSView\"},{\"attributes\":{},\"id\":\"1196\",\"type\":\"ResetTool\"},{\"attributes\":{\"active_multi\":null,\"tools\":[{\"id\":\"1006\"},{\"id\":\"1007\"},{\"id\":\"1008\"},{\"id\":\"1026\"},{\"id\":\"1027\"},{\"id\":\"1028\"},{\"id\":\"1029\"},{\"id\":\"1030\"}]},\"id\":\"1032\",\"type\":\"Toolbar\"},{\"attributes\":{\"data_source\":{\"id\":\"1222\"},\"glyph\":{\"id\":\"1225\"},\"hover_glyph\":null,\"muted_glyph\":{\"id\":\"1227\"},\"nonselection_glyph\":{\"id\":\"1226\"},\"selection_glyph\":{\"id\":\"1230\"},\"view\":{\"id\":\"1229\"}},\"id\":\"1228\",\"type\":\"GlyphRenderer\"},{\"attributes\":{\"active_multi\":null,\"tools\":[{\"id\":\"1172\"},{\"id\":\"1173\"},{\"id\":\"1174\"},{\"id\":\"1192\"},{\"id\":\"1193\"},{\"id\":\"1194\"},{\"id\":\"1195\"},{\"id\":\"1196\"}]},\"id\":\"1198\",\"type\":\"Toolbar\"},{\"attributes\":{\"line_color\":\"green\",\"line_width\":0.6666666666666666,\"x\":{\"field\":\"days\"},\"y\":{\"field\":\"hadv_bar\"}},\"id\":\"1064\",\"type\":\"Line\"},{\"attributes\":{\"data_source\":{\"id\":\"1047\"},\"glyph\":{\"id\":\"1050\"},\"hover_glyph\":null,\"muted_glyph\":{\"id\":\"1052\"},\"nonselection_glyph\":{\"id\":\"1051\"},\"selection_glyph\":{\"id\":\"1055\"},\"view\":{\"id\":\"1054\"}},\"id\":\"1053\",\"type\":\"GlyphRenderer\"},{\"attributes\":{\"end\":0.001,\"reset_end\":0.001,\"reset_start\":-0.001,\"start\":-0.001,\"tags\":[[[\"prsgrd_bar\",\"prsgrd_bar\",null]]]},\"id\":\"1005\",\"type\":\"Range1d\"},{\"attributes\":{},\"id\":\"1084\",\"type\":\"UnionRenderers\"},{\"attributes\":{},\"id\":\"1223\",\"type\":\"Selection\"},{\"attributes\":{},\"id\":\"1232\",\"type\":\"Selection\"},{\"attributes\":{\"line_color\":\"purple\",\"line_width\":0.6666666666666666,\"x\":{\"field\":\"days\"},\"y\":{\"field\":\"bstr_bar\"}},\"id\":\"1068\",\"type\":\"Line\"},{\"attributes\":{\"line_alpha\":0.2,\"line_color\":\"green\",\"line_width\":0.6666666666666666,\"x\":{\"field\":\"days\"},\"y\":{\"field\":\"hadv_bar\"}},\"id\":\"1227\",\"type\":\"Line\"},{\"attributes\":{},\"id\":\"1250\",\"type\":\"UnionRenderers\"},{\"attributes\":{\"line_alpha\":0.1,\"line_color\":\"green\",\"line_width\":0.6666666666666666,\"x\":{\"field\":\"days\"},\"y\":{\"field\":\"hadv_bar\"}},\"id\":\"1226\",\"type\":\"Line\"},{\"attributes\":{\"data_source\":{\"id\":\"1065\"},\"glyph\":{\"id\":\"1068\"},\"hover_glyph\":null,\"muted_glyph\":{\"id\":\"1070\"},\"nonselection_glyph\":{\"id\":\"1069\"},\"selection_glyph\":{\"id\":\"1073\"},\"view\":{\"id\":\"1072\"}},\"id\":\"1071\",\"type\":\"GlyphRenderer\"},{\"attributes\":{\"line_alpha\":0.2,\"line_color\":\"orange\",\"line_width\":0.6666666666666666,\"x\":{\"field\":\"days\"},\"y\":{\"field\":\"prsgrd_bar\"}},\"id\":\"1052\",\"type\":\"Line\"},{\"attributes\":{\"source\":{\"id\":\"1222\"}},\"id\":\"1229\",\"type\":\"CDSView\"},{\"attributes\":{\"toolbars\":[{\"id\":\"1032\"},{\"id\":\"1198\"}],\"tools\":[{\"id\":\"1006\"},{\"id\":\"1007\"},{\"id\":\"1008\"},{\"id\":\"1026\"},{\"id\":\"1027\"},{\"id\":\"1028\"},{\"id\":\"1029\"},{\"id\":\"1030\"},{\"id\":\"1172\"},{\"id\":\"1173\"},{\"id\":\"1174\"},{\"id\":\"1192\"},{\"id\":\"1193\"},{\"id\":\"1194\"},{\"id\":\"1195\"},{\"id\":\"1196\"}]},\"id\":\"1369\",\"type\":\"ProxyToolbar\"},{\"attributes\":{\"line_color\":\"green\",\"line_width\":0.6666666666666666,\"x\":{\"field\":\"days\"},\"y\":{\"field\":\"hadv_bar\"}},\"id\":\"1230\",\"type\":\"Line\"},{\"attributes\":{\"line_alpha\":0.1,\"line_color\":\"orange\",\"line_width\":0.6666666666666666,\"x\":{\"field\":\"days\"},\"y\":{\"field\":\"prsgrd_bar\"}},\"id\":\"1051\",\"type\":\"Line\"},{\"attributes\":{\"data\":{\"days\":{\"__ndarray__\":\"q6qqqqoKLEDHcRzHcQwsQOQ4juM4DixAAAAAAAAQLEAcx3EcxxEsQDmO4ziOEyxAVVVVVVUVLEByHMdxHBcsQI7jOI7jGCxAq6qqqqoaLEDHcRzHcRwsQOQ4juM4HixAAAAAAAAgLEAcx3EcxyEsQDmO4ziOIyxAVVVVVVUlLEByHMdxHCcsQI7jOI7jKCxAq6qqqqoqLEDHcRzHcSwsQOQ4juM4LixAAAAAAAAwLEAcx3EcxzEsQDmO4ziOMyxAVVVVVVU1LEByHMdxHDcsQI7jOI7jOCxAq6qqqqo6LEDHcRzHcTwsQOQ4juM4PixAAAAAAABALEAcx3Ecx0EsQDmO4ziOQyxAVVVVVVVFLEByHMdxHEcsQI7jOI7jSCxAq6qqqqpKLEDHcRzHcUwsQOQ4juM4TixAAAAAAABQLEAcx3Ecx1EsQDmO4ziOUyxAVVVVVVVVLEByHMdxHFcsQI7jOI7jWCxAq6qqqqpaLEDHcRzHcVwsQOQ4juM4XixAAAAAAABgLEAcx3Ecx2EsQDmO4ziOYyxAVVVVVVVlLEByHMdxHGcsQI7jOI7jaCxAq6qqqqpqLEDHcRzHcWwsQOQ4juM4bixAAAAAAABwLEAcx3Ecx3EsQDmO4ziOcyxAVVVVVVV1LEByHMdxHHcsQI7jOI7jeCxAq6qqqqp6LEDHcRzHcXwsQOQ4juM4fixAAAAAAACALEAcx3Ecx4EsQDmO4ziOgyxAVVVVVVWFLEByHMdxHIcsQI7jOI7jiCxAq6qqqqqKLEDHcRzHcYwsQOQ4juM4jixAAAAAAACQLEAcx3Ecx5EsQDmO4ziOkyxAVVVVVVWVLEByHMdxHJcsQI7jOI7jmCxAq6qqqqqaLEDHcRzHcZwsQOQ4juM4nixAAAAAAACgLEAcx3Ecx6EsQDmO4ziOoyxAVVVVVVWlLEByHMdxHKcsQI7jOI7jqCxAq6qqqqqqLEDHcRzHcawsQOQ4juM4rixAAAAAAACwLEAcx3Ecx7EsQDmO4ziOsyxAVVVVVVW1LEByHMdxHLcsQI7jOI7juCxAq6qqqqq6LEDHcRzHcbwsQOQ4juM4vixAAAAAAADALEAcx3Ecx8EsQDmO4ziOwyxAVVVVVVXFLEByHMdxHMcsQI7jOI7jyCxAq6qqqqrKLEDHcRzHccwsQOQ4juM4zixAAAAAAADQLEAcx3Ecx9EsQDmO4ziO0yxAVVVVVVXVLEByHMdxHNcsQI7jOI7j2CxAq6qqqqraLEDHcRzHcdwsQOQ4juM43ixAAAAAAADgLEAcx3Ecx+EsQDmO4ziO4yxAVVVVVVXlLEByHMdxHOcsQI7jOI7j6CxAq6qqqqrqLEDHcRzHcewsQOQ4juM47ixAAAAAAADwLEAcx3Ecx/EsQDmO4ziO8yxAVVVVVVX1LEByHMdxHPcsQI7jOI7j+CxAq6qqqqr6LEDHcRzHcfwsQOQ4juM4/ixAAAAAAAAALUAcx3EcxwEtQDmO4ziOAy1AVVVVVVUFLUByHMdxHActQI7jOI7jCC1Aq6qqqqoKLUDHcRzHcQwtQOQ4juM4Di1AAAAAAAAQLUAcx3EcxxEtQDmO4ziOEy1AVVVVVVUVLUByHMdxHBctQI7jOI7jGC1Aq6qqqqoaLUDHcRzHcRwtQOQ4juM4Hi1AAAAAAAAgLUAcx3EcxyEtQDmO4ziOIy1AVVVVVVUlLUByHMdxHCctQI7jOI7jKC1Aq6qqqqoqLUDHcRzHcSwtQOQ4juM4Li1AAAAAAAAwLUAcx3EcxzEtQDmO4ziOMy1AVVVVVVU1LUByHMdxHDctQI7jOI7jOC1Aq6qqqqo6LUDHcRzHcTwtQOQ4juM4Pi1AAAAAAABALUAcx3Ecx0EtQDmO4ziOQy1AVVVVVVVFLUByHMdxHEctQI7jOI7jSC1Aq6qqqqpKLUDHcRzHcUwtQOQ4juM4Ti1AAAAAAABQLUAcx3Ecx1EtQDmO4ziOUy1AVVVVVVVVLUByHMdxHFctQI7jOI7jWC1Aq6qqqqpaLUDHcRzHcVwtQOQ4juM4Xi1AAAAAAABgLUAcx3Ecx2EtQDmO4ziOYy1AVVVVVVVlLUByHMdxHGctQI7jOI7jaC1Aq6qqqqpqLUDHcRzHcWwtQOQ4juM4bi1AAAAAAABwLUAcx3Ecx3EtQDmO4ziOcy1AVVVVVVV1LUByHMdxHHctQI7jOI7jeC1Aq6qqqqp6LUDHcRzHcXwtQOQ4juM4fi1AAAAAAACALUAcx3Ecx4EtQDmO4ziOgy1AVVVVVVWFLUByHMdxHIctQI7jOI7jiC1Aq6qqqqqKLUDHcRzHcYwtQOQ4juM4ji1AAAAAAACQLUAcx3Ecx5EtQDmO4ziOky1AVVVVVVWVLUByHMdxHJctQI7jOI7jmC1Aq6qqqqqaLUDHcRzHcZwtQOQ4juM4ni1AAAAAAACgLUAcx3Ecx6EtQDmO4ziOoy1AVVVVVVWlLUByHMdxHKctQI7jOI7jqC1Aq6qqqqqqLUDHcRzHcawtQOQ4juM4ri1AAAAAAACwLUAcx3Ecx7EtQDmO4ziOsy1AVVVVVVW1LUByHMdxHLctQI7jOI7juC1Aq6qqqqq6LUDHcRzHcbwtQOQ4juM4vi1AAAAAAADALUAcx3Ecx8EtQDmO4ziOwy1AVVVVVVXFLUByHMdxHMctQI7jOI7jyC1Aq6qqqqrKLUDHcRzHccwtQOQ4juM4zi1AAAAAAADQLUAcx3Ecx9EtQDmO4ziO0y1AVVVVVVXVLUByHMdxHNctQI7jOI7j2C1Aq6qqqqraLUDHcRzHcdwtQOQ4juM43i1AAAAAAADgLUAcx3Ecx+EtQDmO4ziO4y1AVVVVVVXlLUByHMdxHOctQI7jOI7j6C1Aq6qqqqrqLUDHcRzHcewtQOQ4juM47i1AAAAAAADwLUAcx3Ecx/EtQDmO4ziO8y1AVVVVVVX1LUByHMdxHPctQI7jOI7j+C1Aq6qqqqr6LUDHcRzHcfwtQOQ4juM4/i1AAAAAAAAALkAcx3EcxwEuQDmO4ziOAy5AVVVVVVUFLkByHMdxHAcuQI7jOI7jCC5Aq6qqqqoKLkDHcRzHcQwuQOQ4juM4Di5AAAAAAAAQLkAcx3EcxxEuQDmO4ziOEy5AVVVVVVUVLkByHMdxHBcuQI7jOI7jGC5Aq6qqqqoaLkDHcRzHcRwuQOQ4juM4Hi5AAAAAAAAgLkAcx3EcxyEuQDmO4ziOIy5AVVVVVVUlLkByHMdxHCcuQI7jOI7jKC5Aq6qqqqoqLkDHcRzHcSwuQOQ4juM4Li5AAAAAAAAwLkAcx3EcxzEuQDmO4ziOMy5AVVVVVVU1LkByHMdxHDcuQI7jOI7jOC5Aq6qqqqo6LkDHcRzHcTwuQOQ4juM4Pi5AAAAAAABALkAcx3Ecx0EuQDmO4ziOQy5AVVVVVVVFLkByHMdxHEcuQI7jOI7jSC5Aq6qqqqpKLkDHcRzHcUwuQOQ4juM4Ti5AAAAAAABQLkAcx3Ecx1EuQDmO4ziOUy5AVVVVVVVVLkByHMdxHFcuQI7jOI7jWC5Aq6qqqqpaLkDHcRzHcVwuQOQ4juM4Xi5AAAAAAABgLkAcx3Ecx2EuQDmO4ziOYy5AVVVVVVVlLkByHMdxHGcuQI7jOI7jaC5Aq6qqqqpqLkDHcRzHcWwuQOQ4juM4bi5AAAAAAABwLkAcx3Ecx3EuQDmO4ziOcy5AVVVVVVV1LkByHMdxHHcuQI7jOI7jeC5Aq6qqqqp6LkDHcRzHcXwuQOQ4juM4fi5AAAAAAACALkAcx3Ecx4EuQDmO4ziOgy5AVVVVVVWFLkByHMdxHIcuQI7jOI7jiC5Aq6qqqqqKLkDHcRzHcYwuQOQ4juM4ji5AAAAAAACQLkAcx3Ecx5EuQDmO4ziOky5AVVVVVVWVLkByHMdxHJcuQI7jOI7jmC5Aq6qqqqqaLkDHcRzHcZwuQOQ4juM4ni5AAAAAAACgLkAcx3Ecx6EuQDmO4ziOoy5AVVVVVVWlLkByHMdxHKcuQI7jOI7jqC5Aq6qqqqqqLkDHcRzHcawuQOQ4juM4ri5AAAAAAACwLkAcx3Ecx7EuQDmO4ziOsy5AVVVVVVW1LkByHMdxHLcuQI7jOI7juC5Aq6qqqqq6LkDHcRzHcbwuQOQ4juM4vi5AAAAAAADALkAcx3Ecx8EuQDmO4ziOwy5AVVVVVVXFLkByHMdxHMcuQI7jOI7jyC5Aq6qqqqrKLkDHcRzHccwuQOQ4juM4zi5AAAAAAADQLkAcx3Ecx9EuQDmO4ziO0y5AVVVVVVXVLkByHMdxHNcuQI7jOI7j2C5Aq6qqqqraLkDHcRzHcdwuQOQ4juM43i5AAAAAAADgLkAcx3Ecx+EuQDmO4ziO4y5AVVVVVVXlLkByHMdxHOcuQI7jOI7j6C5Aq6qqqqrqLkDHcRzHcewuQOQ4juM47i5AAAAAAADwLkAcx3Ecx/EuQDmO4ziO8y5AVVVVVVX1LkByHMdxHPcuQI7jOI7j+C5Aq6qqqqr6LkDHcRzHcfwuQOQ4juM4/i5AAAAAAAAAL0Acx3EcxwEvQDmO4ziOAy9AVVVVVVUFL0ByHMdxHAcvQI7jOI7jCC9Aq6qqqqoKL0DHcRzHcQwvQOQ4juM4Di9AAAAAAAAQL0Acx3EcxxEvQDmO4ziOEy9AVVVVVVUVL0ByHMdxHBcvQI7jOI7jGC9Aq6qqqqoaL0DHcRzHcRwvQOQ4juM4Hi9AAAAAAAAgL0Acx3EcxyEvQDmO4ziOIy9AVVVVVVUlL0ByHMdxHCcvQI7jOI7jKC9Aq6qqqqoqL0DHcRzHcSwvQOQ4juM4Li9AAAAAAAAwL0Acx3EcxzEvQDmO4ziOMy9AVVVVVVU1L0ByHMdxHDcvQI7jOI7jOC9Aq6qqqqo6L0DHcRzHcTwvQOQ4juM4Pi9AAAAAAABAL0Acx3Ecx0EvQDmO4ziOQy9AVVVVVVVFL0ByHMdxHEcvQI7jOI7jSC9Aq6qqqqpKL0DHcRzHcUwvQOQ4juM4Ti9AAAAAAABQL0Acx3Ecx1EvQDmO4ziOUy9AVVVVVVVVL0ByHMdxHFcvQI7jOI7jWC9Aq6qqqqpaL0DHcRzHcVwvQOQ4juM4Xi9AAAAAAABgL0Acx3Ecx2EvQDmO4ziOYy9AVVVVVVVlL0ByHMdxHGcvQI7jOI7jaC9Aq6qqqqpqL0DHcRzHcWwvQOQ4juM4bi9AAAAAAABwL0Acx3Ecx3EvQDmO4ziOcy9AVVVVVVV1L0ByHMdxHHcvQI7jOI7jeC9Aq6qqqqp6L0DHcRzHcXwvQOQ4juM4fi9AAAAAAACAL0Acx3Ecx4EvQDmO4ziOgy9AVVVVVVWFL0ByHMdxHIcvQI7jOI7jiC9Aq6qqqqqKL0DHcRzHcYwvQOQ4juM4ji9AAAAAAACQL0A=\",\"dtype\":\"float64\",\"order\":\"little\",\"shape\":[508]},\"hadv_bar\":{\"__ndarray__\":\"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\",\"dtype\":\"float32\",\"order\":\"little\",\"shape\":[508]}},\"selected\":{\"id\":\"1057\"},\"selection_policy\":{\"id\":\"1084\"}},\"id\":\"1056\",\"type\":\"ColumnDataSource\"},{\"attributes\":{\"line_alpha\":0.2,\"line_color\":\"purple\",\"line_width\":0.6666666666666666,\"x\":{\"field\":\"days\"},\"y\":{\"field\":\"bstr_bar\"}},\"id\":\"1070\",\"type\":\"Line\"},{\"attributes\":{\"data\":{\"bstr_bar\":{\"__ndarray__\":\"chlgtcsDW7XD+1O1BwRFtSIeObXhADG1DLYqtVEWKbVE6ie1Ni4ntcZLJ7UyJSW1EEEitYNJHLXIfhW1KWYNtVo6B7WAKgK1/3r7tFmP8rT34eu0lA7ntKOx4bTYHdy06xrVtIUYzrT4J8e0ft/AtNdAu7QKhLW0bPqvtAbTqrQr8aW0rKGhtJldnbQlE5m02KqTtIdDjrQp64i0eLCDtD+3frRIPHe0KOtxtAf0bbTVxGu0sodqtH09arQpw2q0uuVrtFe9bbSkkG+0fgZxtB42crTTuHG0jdFwtGXjbrSDUmy0exhptCf4ZLRJsmC01iNdtLywWbSnx1S0o99PtLobS7S7d0e0W6dDtHk4QLQmhT20wRs7tDBTObR/3je0XMg2tESLNrTRTza0x1w2tOskOLQGxTq0Hk89tDPDP7RwW0K0VB9FtOH6R7Qh9kq0LQtNtEgyT7SkjFG0LOBTtO1VVrQoiVi08E5atOcBXLRf9Vy0+ZZdtFZAXrRCR160kS9etC46XrRInV20ie9ctLF9XLQvf1u0qaxatEY5WrT+WFm02epYtEO1WLSco1i0dvdYtPNfWbQYS1q0t0lbtEahXLQWSV60ES5gtFd1YrRQ1mS0GLNntLqLarSiv220tvJwtMBcdLRG3Xe0JZx7tBdvf7SUvIG0XNeDtMP+hbSYNYi0iY6KtBXkjLTERY+0KM2RtNlPlLQG4Za0vqSZtM9InLRXGJ+0igKitLzNpLSdzKe0Cc6qtPzHrbRmBbG01OOztMHItrSYu7m0SmC8tDAhv7SZzsG0IWjEtNccx7QSiMm0JBHMtFqGzrS54tC0Hl/TtB6V1bSg5de06zTatCp73LSV2t60FPbgtOMe47SjV+W0MqTntIXe6bT0JOy0eoXutPbI8LT+PvO06q31tMwv+LTy9Pq04e39tN13ALUp7wG11IADtYgMBbW9wAa1XZQItRZrCrUYpwy1JhsPtQy0EbUcfhW1xpcZtd6nH7VFYzy1nlmStTzj/rW2uLi27BrAuVvhtrjBEJq43UOXuHxkl7gmFJe4g6mWuAYFlrjOHJW4Xu+TuG2NkrgAD5G4V5aPuO9Njrjico247vGMuF7UiLjvhv+3IdsQt/BtX7VArPC0vsAZtEm0YrPhVECzX4Eds0J99LLwEMCyECnJsr4a0rI/6Nqytpbfsog15LIaxeiyiSnuss+t87JwGfmyX27+skDXAbOnbQSz7f0Gsy2KCbMYEAyzb5AOs+YbErN23RWzqZkZs+5RHbOxByGzYLwks2dxKLNLKCyzd+Ivs1+hM7PyqjizfIM+s19mRLOdVUqzCVlQs+J2VrMLp1yzC+tis7VEabPjtW+zLpB2s6HAfrMOg4OzzLCHsx7qi7OBL5CzbYGUs3ngmLMcTZ2zz8ehs/ReprPIZquzOeiwsxR9trMbJryzFeTBs5+3x7NYoc2zOaLTs6a92bMB7t+zqi/msy6m7LMsVPOzdBr6s7p8ALQDDAS0UaIHtK48C7TXzAy05NsNtAj3DrQkKxC0B2IRtJObErTI1xO01BkVtKlvFrQPyBe0qSMZtHmCGrTR5xu0yVYdtIvIHrSbPSC0/LUhtABPI7T+8SS0UJkmtD5EKLRX9ym03rErtMVwLbR+NC+0ORcxtEQRM7QFEDW0/xI3tMw2ObQdZTu0dZg9tEzXP7TjLkK0A4xEtCjuRrRhiEm0hS1MtGzYTrT5olG0VX5UtP1fV7Rye1q0uLZdtB3gX7RBG2K0oo5ktEgpZ7RARGq0EZJttG7ycLRrpXS0Z5J4tJ0JfbST94C0T4+DtOaFhrTuoYm0+hONtBXKkLSNxJS0GvuYtE1fnbQeXaK0w9mntBIyrrRZJrW0i/68tKNMxbQT+8608MPZtNgy5rTC+PO0RvwBtSqEC7V1xRe1NuIltb9ePLXrR1e15OV0tfBvm7VrBLq1YjrttdetDLYavg+2IQAOtlOfDbawvBK2UXUdtrfFLbZIr0W2xQdntkn9ibYJRaa2bZ6+tpbCz7YEE9m2YajcthDd27YniNi2lzjPtpnWzLZ27tG2dgPhtmwBArd+VnW2zMQQtk+i17UUjqy1M4aStZ/OgbXK3W+1kTJitYQHW7ViLVe1CONStXHWTrWI5Uy1u95KtVmASLVNZke1nllEtX9aQbUFIT+17dM7tfeBN7VMyzO1Et8utc2mK7V5ASe1FeIjtZX8ILXQIB+1IHoetVJSHbWJ9B21E44dtULxHbWNtx21H6wdtYskHbV02By1alwctSNyG7WRlhq1SG8ZtbDWF7WqExW1mZIRtZBlDbV4DQe1MKkAtfev87QvMOa0AsTVtLtax7Sdp7m05DustE6Bn7QftpO0L/OItFe6fbTb2Wu0gEpctFoyULQogEi0m3pGtLa7SbQufFK0FBhhtIvqdrRuq4m0BIqdtOvKtbQmydG05tfztNoXD7X/TCi1UHlFtUnDZLXEhYO1Wv6VtQR/qbV2Mr2154zOtXAi37Xt/+y1/b34tRMK/7VEo/+1LyD8tWBt87U5iOa1IGrUtTosv7U4Kqm1V0iTtVTCfLXFj1W1f5cxtU/OD7XlheO00ZSxtEhmiLTsSk606SMbtLFe5rNbCamzyLN3syXVNbO48Quzk/3rsnpx27KbWd6yignysrGcCLOKUB6z30w8s5p8aLOx+pGzsAjas+v3IbRx0ma0LfirtA==\",\"dtype\":\"float32\",\"order\":\"little\",\"shape\":[508]},\"days\":{\"__ndarray__\":\"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\",\"dtype\":\"float64\",\"order\":\"little\",\"shape\":[508]}},\"selected\":{\"id\":\"1066\"},\"selection_policy\":{\"id\":\"1086\"}},\"id\":\"1065\",\"type\":\"ColumnDataSource\"},{\"attributes\":{\"line_alpha\":0.1,\"line_color\":\"purple\",\"line_width\":0.6666666666666666,\"x\":{\"field\":\"days\"},\"y\":{\"field\":\"bstr_bar\"}},\"id\":\"1069\",\"type\":\"Line\"},{\"attributes\":{\"line_color\":\"purple\",\"line_width\":0.6666666666666666,\"x\":{\"field\":\"days\"},\"y\":{\"field\":\"coriolis_bar\"}},\"id\":\"1234\",\"type\":\"Line\"},{\"attributes\":{},\"id\":\"1086\",\"type\":\"UnionRenderers\"},{\"attributes\":{\"line_color\":\"orange\",\"line_width\":0.6666666666666666,\"x\":{\"field\":\"days\"},\"y\":{\"field\":\"prsgrd_bar\"}},\"id\":\"1050\",\"type\":\"Line\"},{\"attributes\":{\"source\":{\"id\":\"1065\"}},\"id\":\"1072\",\"type\":\"CDSView\"},{\"attributes\":{\"bottom_units\":\"screen\",\"fill_alpha\":0.5,\"fill_color\":\"lightgrey\",\"left_units\":\"screen\",\"level\":\"overlay\",\"line_alpha\":1.0,\"line_color\":\"black\",\"line_dash\":[4,4],\"line_width\":2,\"right_units\":\"screen\",\"syncable\":false,\"top_units\":\"screen\"},\"id\":\"1197\",\"type\":\"BoxAnnotation\"},{\"attributes\":{\"data_source\":{\"id\":\"1231\"},\"glyph\":{\"id\":\"1234\"},\"hover_glyph\":null,\"muted_glyph\":{\"id\":\"1236\"},\"nonselection_glyph\":{\"id\":\"1235\"},\"selection_glyph\":{\"id\":\"1239\"},\"view\":{\"id\":\"1238\"}},\"id\":\"1237\",\"type\":\"GlyphRenderer\"},{\"attributes\":{\"line_color\":\"purple\",\"line_width\":0.6666666666666666,\"x\":{\"field\":\"days\"},\"y\":{\"field\":\"bstr_bar\"}},\"id\":\"1073\",\"type\":\"Line\"},{\"attributes\":{\"data\":{\"days\":{\"__ndarray__\":\"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\",\"dtype\":\"float64\",\"order\":\"little\",\"shape\":[508]},\"prsgrd_bar\":{\"__ndarray__\":\"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\",\"dtype\":\"float32\",\"order\":\"little\",\"shape\":[508]}},\"selected\":{\"id\":\"1214\"},\"selection_policy\":{\"id\":\"1248\"}},\"id\":\"1213\",\"type\":\"ColumnDataSource\"},{\"attributes\":{},\"id\":\"1252\",\"type\":\"UnionRenderers\"},{\"attributes\":{\"callback\":null,\"renderers\":[{\"id\":\"1228\"}],\"tags\":[\"hv_created\"],\"tooltips\":[[\"days\",\"@{days}\"],[\"hadv_bar\",\"@{hadv_bar}\"]]},\"id\":\"1173\",\"type\":\"HoverTool\"},{\"attributes\":{\"bottom_units\":\"screen\",\"fill_alpha\":0.5,\"fill_color\":\"lightgrey\",\"left_units\":\"screen\",\"level\":\"overlay\",\"line_alpha\":1.0,\"line_color\":\"black\",\"line_dash\":[4,4],\"line_width\":2,\"right_units\":\"screen\",\"syncable\":false,\"top_units\":\"screen\"},\"id\":\"1031\",\"type\":\"BoxAnnotation\"},{\"attributes\":{\"line_alpha\":0.1,\"line_color\":\"purple\",\"line_width\":0.6666666666666666,\"x\":{\"field\":\"days\"},\"y\":{\"field\":\"coriolis_bar\"}},\"id\":\"1235\",\"type\":\"Line\"},{\"attributes\":{\"data\":{\"coriolis_bar\":{\"__ndarray__\":\"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\",\"dtype\":\"float32\",\"order\":\"little\",\"shape\":[508]},\"days\":{\"__ndarray__\":\"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\",\"dtype\":\"float64\",\"order\":\"little\",\"shape\":[508]}},\"selected\":{\"id\":\"1232\"},\"selection_policy\":{\"id\":\"1252\"}},\"id\":\"1231\",\"type\":\"ColumnDataSource\"},{\"attributes\":{\"source\":{\"id\":\"1231\"}},\"id\":\"1238\",\"type\":\"CDSView\"}],\"root_ids\":[\"1002\"]},\"title\":\"Bokeh Application\",\"version\":\"2.3.1\"}};\n",
       "    var render_items = [{\"docid\":\"4fab1eea-16cf-40f2-953c-954dfaf98666\",\"root_ids\":[\"1002\"],\"roots\":{\"1002\":\"e7e06a94-5ce4-4467-a79e-0b38455526a5\"}}];\n",
       "    root.Bokeh.embed.embed_items_notebook(docs_json, render_items);\n",
       "  }\n",
       "  if (root.Bokeh !== undefined && root.Bokeh.Panel !== undefined) {\n",
       "    embed_document(root);\n",
       "  } else {\n",
       "    var attempts = 0;\n",
       "    var timer = setInterval(function(root) {\n",
       "      if (root.Bokeh !== undefined && root.Bokeh.Panel !== undefined) {\n",
       "        clearInterval(timer);\n",
       "        embed_document(root);\n",
       "      } else if (document.readyState == \"complete\") {\n",
       "        attempts++;\n",
       "        if (attempts > 100) {\n",
       "          clearInterval(timer);\n",
       "          console.log(\"Bokeh: ERROR: Unable to run BokehJS code because BokehJS library is missing\");\n",
       "        }\n",
       "      }\n",
       "    }, 10, root)\n",
       "  }\n",
       "})(window);</script>"
      ],
      "text/plain": [
       ":Layout\n",
       "   .Overlay.I  :Overlay\n",
       "      .Curve.I   :Curve   [days]   (prsgrd_bar)\n",
       "      .Curve.II  :Curve   [days]   (hadv_bar)\n",
       "      .Curve.III :Curve   [days]   (bstr_bar)\n",
       "   .Overlay.II :Overlay\n",
       "      .Curve.I   :Curve   [days]   (prsgrd_bar)\n",
       "      .Curve.II  :Curve   [days]   (hadv_bar)\n",
       "      .Curve.III :Curve   [days]   (coriolis_bar)"
      ]
     },
     "execution_count": 96,
     "metadata": {
      "application/vnd.holoviews_exec.v0+json": {
       "id": "1002"
      }
     },
     "output_type": "execute_result"
    }
   ],
   "source": [
    "    (\n",
    "    (\n",
    "    df_sw.plot(x = \"days\", y = \"prsgrd_bar\", color = \"orange\", **lineopts)*\n",
    "    df_sw.plot(x = \"days\", y = \"hadv_bar\", color = \"green\", **lineopts)*\n",
    "    df_sw.plot(x = \"days\", y = \"bstr_bar\", color = \"purple\", **lineopts)\n",
    "    )\n",
    "    +\n",
    "    (\n",
    "    df_nm.plot(x = \"days\", y = \"prsgrd_bar\", color = \"orange\",  **lineopts)*\n",
    "    df_nm.plot(x = \"days\", y = \"hadv_bar\", color = \"green\", ax = ax[1], **lineopts)*\n",
    "    df_nm.plot(x = \"days\", y = \"coriolis_bar\", color = \"purple\", ax = ax[1], **lineopts)\n",
    "    )\n",
    "    )"
   ]
  },
  {
   "cell_type": "code",
   "execution_count": 113,
   "metadata": {},
   "outputs": [
    {
     "data": {
      "application/vnd.jupyter.widget-view+json": {
       "model_id": "ad6f396cd8ca45a7b86db827de5ae12b",
       "version_major": 2,
       "version_minor": 0
      },
      "text/plain": [
       "Canvas(toolbar=Toolbar(toolitems=[('Home', 'Reset original view', 'home', 'home'), ('Back', 'Back to previous …"
      ]
     },
     "metadata": {},
     "output_type": "display_data"
    }
   ],
   "source": [
    "from colorcet import glasbey_dark as glasbey\n",
    "\n",
    "pd.options.plotting.backend = 'matplotlib'\n",
    "\n",
    "#varlist = [\"accel\", \"cor\", \"hadv\", \"fsco\", \"hjvf\", \"hvisc\", \"kvrf\", \"prsgrd\", \"vadv\", \"vjvf\", \"vvisc\", \"wbrk\"]\n",
    "#varlist = [\"accel\", \"hadv\", \"vadv\", \"prsgrd\", \"coriolis\", \"hvisc\", \"vvisc\", \"vf\", \"wbrk\"]\n",
    "\n",
    "varlist = [\"accel_bar\", \"hadv_bar\", \"prsgrd_bar\", \"coriolis_bar\", \"hvisc_bar\", \"bstr_bar\", \"vf_bar\", \"wbrk_bar\"]\n",
    "n = len(varlist)\n",
    "ind = 85 #14,16 ok, 33 best, 35+43+68 good, 48+67+83+84 quite good, 86 best?\n",
    "\n",
    "\n",
    "# rcparams = {'text.usetex': False, \n",
    "#             'text.latex.preamble' : [r'\\usepackage{lmodern}']}\n",
    "plt.rcParams.update({\"text.usetex\": False})\n",
    "\n",
    "\n",
    "sns.set_palette(\"tab10\")\n",
    "# for i in range(10):\n",
    "\n",
    "lineopts = {\"line_width\": 1,\n",
    "            \"ylim\": (-1e-3,1e-3)}\n",
    "\n",
    "with sns.axes_style(\"white\", rc=rcparams):\n",
    "\n",
    "    fig, ax = plt.subplots(3,1, figsize = (8, 10.5), sharex = True, facecolor = 'w')\n",
    "    for axis in ax.flatten()[:-1]:\n",
    "        axis.set_facecolor = 'w'\n",
    "        axis.set_yscale('symlog', linthresh=5e-6)\n",
    "        #axis.set_prop_cycle(color = glasbey[ind:ind+n])\n",
    "\n",
    "        axis.set_ylabel('$ms^{-2}$', fontsize = 12)\n",
    "        axis.spines['bottom'].set_visible(False)\n",
    "        axis.spines['right'].set_visible(False)\n",
    "        axis.spines['top'].set_visible(False)\n",
    "        axis.yaxis.set_ticks_position('left')\n",
    "        axis.yaxis.set_tick_params(labelsize = 8, width = .25)\n",
    "        axis.xaxis.grid(True)\n",
    "        #axis.xaxis.set_ticks_position('bottom')\n",
    "        #axis.tick_params(direction='out', length=6, width=2, colors='r',\n",
    "        #       grid_color='r', grid_alpha=0.5)\n",
    "\n",
    "    ax[2].xaxis.set_ticks_position('bottom')\n",
    "    ax[2].xaxis.set_tick_params(labelsize = 8, width = .25)\n",
    "    ax[2].yaxis.set_ticks_position('left')\n",
    "    ax[2].yaxis.set_tick_params(labelsize = 8, width = .25)\n",
    "    ax[2].set_facecolor = 'w'\n",
    "    ax[2].spines['right'].set_visible(False)\n",
    "    ax[2].spines['top'].set_visible(False)\n",
    "\n",
    "    df_sw.plot(x = \"days\", y = varlist, ax = ax[0], ylim = (-1e-3, 1e-3), linewidth = 1)\n",
    "    df_nm.plot(x = \"days\", y = varlist, ax = ax[1], ylim = (-1e-3, 1e-3), linewidth = 1)\n",
    "    df_sw[\"depth\"] = -df_sw.h\n",
    "    df_sw.plot(x = \"days\", y = \"depth\", ax = ax[2], linewidth = .75, linestyle = \"--\", color = \"k\")\n",
    "    \n",
    "\n",
    "    #ax[1].tick_params(width = 2, length = 5)\n",
    "\n",
    "    ax[0].legend().set_visible(False)\n",
    "    legend = ax[1].legend(frameon = False, borderaxespad=-12, prop={'size': 8}, bbox_to_anchor = (1.1,.4), )\n",
    "    #legend.get_texts()[0].set_text('acceleration')\n",
    "#     legend.get_texts()[1].set_text('horizontal advection')\n",
    "#     legend.get_texts()[0].set_text('pressure gradient')\n",
    "#     legend.get_texts()[2].set_text('bottom stress/coriolis')\n",
    "#     legend.get_texts()[4].set_text('horizontal viscosity')\n",
    "#     legend.get_texts()[5].set_text('bottom stress')\n",
    "#     legend.get_texts()[6].set_text('vortex forces')\n",
    "#     legend.get_texts()[7].set_text('wave breaking')\n",
    "    \n",
    "    #legend.get_texts()[6].set_text('$\\it{k}$ vortex force')\n",
    "    #legend.get_texts()[3].set_text('stokes coriolis')\n",
    "    #legend.get_texts()[4].set_text('horizontal $\\it{j}$ vortex force')\n",
    "    #legend.get_texts()[9].set_text('vertical $\\it{j}$ vortex force')\n",
    "    \n",
    "\n",
    "    #ax[2].set_xlim(14,15.85)\n",
    "\n",
    "    ax[2].set_ylim(-150, 0)\n",
    "    ax[2].set_ylabel(\"Depth (m)\", fontsize = 12)\n",
    "    ax[2].set_xlabel(\"Days\", fontsize = 12)\n",
    "    fig.subplots_adjust(hspace=0)\n",
    "    plt.tight_layout()\n",
    "    \n",
    "    #plt.savefig('lagrangeMomentum-lite.svg',  dpi = 600, bbox_inches='tight') \n",
    "    #plt.savefig(\"{}.png\".format(i),  dpi = 300, bbox_inches='tight')\n",
    "    #plt.close(fig)\n",
    "    \n",
    "    #plt.show()"
   ]
  },
  {
   "cell_type": "markdown",
   "metadata": {},
   "source": [
    "### dark background\n"
   ]
  },
  {
   "cell_type": "code",
   "execution_count": null,
   "metadata": {},
   "outputs": [],
   "source": [
    "from colorcet import glasbey_light as glasbey\n",
    "varlist = [\"accel\", \"cor\", \"hadv\", \"fsco\", \"hjvf\", \"hvisc\", \"kvrf\", \"prsgrd\", \"vadv\", \"vjvf\", \"vvisc\", \"wbrk\"]\n",
    "n = len(varlist)\n",
    "fig, ax = plt.subplots(3,1, figsize = (10, 8), sharex = True)\n",
    "ind = 79 #60, 70 good, 8 glassby cool\n",
    "ax[0].set_prop_cycle(color = glasbey[ind:ind+n])\n",
    "ax[1].set_prop_cycle(color = glasbey[ind:ind+n])\n",
    "ax[0].set_ylabel('$ms^{-2}$')\n",
    "ax[1].set_ylabel('$ms^{-2}$')\n",
    "ax[0].spines['bottom'].set_visible(False)\n",
    "ax[1].spines['bottom'].set_visible(False)\n",
    "\n",
    "df_sw.plot(x = \"days\", y = varlist, ax = ax[0], ylim = (-1e-5, 1e-5), linewidth = .75)\n",
    "df_nm.plot(x = \"days\", y = varlist, ax = ax[1], ylim = (-1e-5, 1e-5), linewidth = .75)\n",
    "\n",
    "ax[0].legend().set_visible(False)\n",
    "legend = ax[1].legend(bbox_to_anchor = (1.1,1.5), frameon = False, loc = \"center right\")\n",
    "plt.setp(legend.get_texts(), color = \"w\")\n",
    "\n",
    "ax[2].plot(df_sw.days.values, -df_sw.h.values, 'w--', linewidth = .75)\n",
    "ax[2].set_ylim(-150, 0)\n",
    "ax[2].set_ylabel(\"Depth (m)\")\n",
    "ax[2].set_xlabel(\"Days\")\n",
    "\n",
    "# axh = ax[1].twinx()\n",
    "# axh.set_ylabel('Depth (m)')\n",
    "# axh.set_ylim()\n",
    "# axh.plot(df_nm.days.values, -df_nm.h.values, 'w--')\n",
    "plt.show()"
   ]
  },
  {
   "cell_type": "code",
   "execution_count": null,
   "metadata": {},
   "outputs": [],
   "source": []
  }
 ],
 "metadata": {
  "kernelspec": {
   "display_name": "Python 3",
   "language": "python",
   "name": "python3"
  },
  "language_info": {
   "codemirror_mode": {
    "name": "ipython",
    "version": 3
   },
   "file_extension": ".py",
   "mimetype": "text/x-python",
   "name": "python",
   "nbconvert_exporter": "python",
   "pygments_lexer": "ipython3",
   "version": "3.9.4"
  }
 },
 "nbformat": 4,
 "nbformat_minor": 4
}
