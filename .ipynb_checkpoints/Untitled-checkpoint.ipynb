{
 "cells": [
  {
   "cell_type": "code",
   "execution_count": 22,
   "id": "7cd0c9a9-1145-47bb-abbe-36df64b21e9c",
   "metadata": {},
   "outputs": [],
   "source": [
    "varlist = [\"a\", \"b\", \"c\"]\n",
    "P = {\"a\": 1, \"b\": 2, \"c\": 3}\n",
    "\n",
    "# def test(a,):\n",
    "    \n",
    "#     for v in varlist:\n",
    "#         setattr(test, v, P[v])\n",
    "\n",
    "def enhance_kernel(varlist):\n",
    "    def Sample(particle, fieldset, time):\n",
    "        dx = particle.lon - particle.lon_lag\n",
    "        dy = particle.lat - particle.lat_lag\n",
    "        ds = math.sqrt( math.pow(dx, 2) + math.pow(dy, 2) )\n",
    "        particle.s += ds\n",
    "        particle.lon_lag = particle.lon\n",
    "        particle.lat_lag = particle.lat\n",
    "        for v in varlist:\n",
    "            setattr(particle,v, getattr)\n",
    "        return f\n",
    "    return wrapper"
   ]
  },
  {
   "cell_type": "code",
   "execution_count": 110,
   "id": "e59af820-e75f-4872-85f7-e2334373147f",
   "metadata": {},
   "outputs": [],
   "source": [
    "# # @enhance_kernel(varlist)\n",
    "def func(x, fieldset):\n",
    "    fieldset.lon = \"test\"\n",
    "    fieldset.lat = \"test\""
   ]
  },
  {
   "cell_type": "code",
   "execution_count": 111,
   "id": "cc0f4427-04ce-4fbe-a295-adea9089f158",
   "metadata": {},
   "outputs": [],
   "source": [
    "# def func_builder():\n",
    "#     def Sample(particle, fieldset, time):\n",
    "#         dx = particle.lon - particle.lon_lag\n",
    "#         dy = particle.lat - particle.lat_lag\n",
    "#         ds = math.sqrt( math.pow(dx, 2) + math.pow(dy, 2) )\n",
    "#         particle.s += ds\n",
    "#         particle.lon_lag = particle.lon\n",
    "#         particle.lat_lag = particle.lat\n",
    "        "
   ]
  },
  {
   "cell_type": "code",
   "execution_count": 125,
   "id": "71e44391-a8c3-4a35-8f41-53cd844d46f4",
   "metadata": {},
   "outputs": [
    {
     "data": {
      "text/plain": [
       "'def func(x, fieldset):\\n    fieldset.lon = \"test\"\\n    fieldset.lat = \"test\"\\n'"
      ]
     },
     "execution_count": 125,
     "metadata": {},
     "output_type": "execute_result"
    }
   ],
   "source": [
    "# from inspect import getsource\n",
    "\n",
    "F = getsource(func)\n",
    "for v in varlist:\n",
    "    F += f'x.{v} = fieldset.{v}[time,bols]\\n    '\n",
    "\n",
    "F\n",
    "#test = exec(F)\n",
    "getsource(func)"
   ]
  },
  {
   "cell_type": "code",
   "execution_count": 113,
   "id": "c55bec88-00f5-4346-88b2-21690cd48ce7",
   "metadata": {},
   "outputs": [
    {
     "data": {
      "text/plain": [
       "'def func(x, fieldset):\\n    fieldset.lon = \"test\"\\n    fieldset.lat = \"test\"\\n'"
      ]
     },
     "execution_count": 113,
     "metadata": {},
     "output_type": "execute_result"
    }
   ],
   "source": [
    "# funccode = 'def func(x, fieldset):\\n     fieldset.lon=\"test\"\\n'\n",
    "getsource(func)"
   ]
  },
  {
   "cell_type": "code",
   "execution_count": null,
   "id": "bed79469-c0ee-4cb7-ba48-f63a77738e7f",
   "metadata": {},
   "outputs": [],
   "source": []
  }
 ],
 "metadata": {
  "kernelspec": {
   "display_name": "Python 3",
   "language": "python",
   "name": "python3"
  },
  "language_info": {
   "codemirror_mode": {
    "name": "ipython",
    "version": 3
   },
   "file_extension": ".py",
   "mimetype": "text/x-python",
   "name": "python",
   "nbconvert_exporter": "python",
   "pygments_lexer": "ipython3",
   "version": "3.9.4"
  }
 },
 "nbformat": 4,
 "nbformat_minor": 5
}
